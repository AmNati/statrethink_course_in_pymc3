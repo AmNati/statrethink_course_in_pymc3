{
 "cells": [
  {
   "cell_type": "markdown",
   "metadata": {},
   "source": [
    "# Rethinking Statistics course in pymc3 - Week 9"
   ]
  },
  {
   "cell_type": "markdown",
   "metadata": {},
   "source": [
    "Lecture 17: Adventures in Covariance\n",
    "\n",
    "- [Video](https://www.youtube.com/watch?v=yfXpjmWgyXU)\n",
    "- [Slides](https://speakerdeck.com/rmcelreath/l17-statistical-rethinking-winter-2019)\n",
    "\n",
    "Lecture 18: Slopes, Instruments and Social Relations\n",
    "\n",
    "- [Video](https://www.youtube.com/watch?v=e5cgiAGBKzI)\n",
    "- [Slides](https://speakerdeck.com/rmcelreath/l18-statistical-rethinking-winter-2019)\n",
    "\n",
    "[Proposed problems](https://github.com/gbosquechacon/statrethinking_winter2019/blob/master/homework/week09.pdf) and [solutions in R](https://github.com/gbosquechacon/statrethinking_winter2019/blob/master/homework/week09_solutions.pdf) for the exercises of the week."
   ]
  },
  {
   "cell_type": "code",
   "execution_count": 2,
   "metadata": {},
   "outputs": [],
   "source": [
    "%matplotlib inline\n",
    "import pymc3 as pm\n",
    "import numpy as np\n",
    "import pandas as pd\n",
    "import theano\n",
    "import theano.tensor as tt\n",
    "from scipy import stats\n",
    "from scipy.special import expit as logistic\n",
    "from sklearn import preprocessing\n",
    "\n",
    "import matplotlib.pyplot as plt\n",
    "import altair as alt\n",
    "alt.data_transformers.enable('default', max_rows=None)\n",
    "import arviz as az\n",
    "\n",
    "import warnings\n",
    "warnings.filterwarnings('ignore')"
   ]
  },
  {
   "cell_type": "markdown",
   "metadata": {},
   "source": [
    "## Exercise 1"
   ]
  },
  {
   "cell_type": "markdown",
   "metadata": {},
   "source": [
    "> Revisit the Bangladesh fertility data, data(`bangladesh`). Fit a model with both varying intercepts by `district_id` and varying slopes of `urban` (as a 0/1 indicator variable) by `district_id`. You are still predicting `use.contraception`. Inspect the correlation between the intercepts and slopes. Can you interpret this correlation, in terms of what it tells you about the pattern of contraceptive use in the sample? It might help to plot the varying effect estimates for both the intercepts and slopes, by district. Then you can visualize the correlation and maybe more easily think through what it means to have a particular correlation. Plotting predicted proportion of women using contraception, in each district, with urban women on one axis and rural on the other, might also help."
   ]
  },
  {
   "cell_type": "code",
   "execution_count": 7,
   "metadata": {},
   "outputs": [
    {
     "data": {
      "text/html": [
       "<div>\n",
       "<style scoped>\n",
       "    .dataframe tbody tr th:only-of-type {\n",
       "        vertical-align: middle;\n",
       "    }\n",
       "\n",
       "    .dataframe tbody tr th {\n",
       "        vertical-align: top;\n",
       "    }\n",
       "\n",
       "    .dataframe thead th {\n",
       "        text-align: right;\n",
       "    }\n",
       "</style>\n",
       "<table border=\"1\" class=\"dataframe\">\n",
       "  <thead>\n",
       "    <tr style=\"text-align: right;\">\n",
       "      <th></th>\n",
       "      <th>woman</th>\n",
       "      <th>district</th>\n",
       "      <th>use.contraception</th>\n",
       "      <th>living.children</th>\n",
       "      <th>age.centered</th>\n",
       "      <th>urban</th>\n",
       "      <th>did</th>\n",
       "      <th>children</th>\n",
       "      <th>age</th>\n",
       "    </tr>\n",
       "  </thead>\n",
       "  <tbody>\n",
       "    <tr>\n",
       "      <th>0</th>\n",
       "      <td>1</td>\n",
       "      <td>1</td>\n",
       "      <td>0</td>\n",
       "      <td>4</td>\n",
       "      <td>18.4400</td>\n",
       "      <td>1</td>\n",
       "      <td>0</td>\n",
       "      <td>1.085062</td>\n",
       "      <td>2.046163</td>\n",
       "    </tr>\n",
       "    <tr>\n",
       "      <th>1</th>\n",
       "      <td>2</td>\n",
       "      <td>1</td>\n",
       "      <td>0</td>\n",
       "      <td>1</td>\n",
       "      <td>-5.5599</td>\n",
       "      <td>1</td>\n",
       "      <td>0</td>\n",
       "      <td>-1.329794</td>\n",
       "      <td>-0.617262</td>\n",
       "    </tr>\n",
       "    <tr>\n",
       "      <th>2</th>\n",
       "      <td>3</td>\n",
       "      <td>1</td>\n",
       "      <td>0</td>\n",
       "      <td>3</td>\n",
       "      <td>1.4400</td>\n",
       "      <td>1</td>\n",
       "      <td>0</td>\n",
       "      <td>0.280110</td>\n",
       "      <td>0.159562</td>\n",
       "    </tr>\n",
       "    <tr>\n",
       "      <th>3</th>\n",
       "      <td>4</td>\n",
       "      <td>1</td>\n",
       "      <td>0</td>\n",
       "      <td>4</td>\n",
       "      <td>8.4400</td>\n",
       "      <td>1</td>\n",
       "      <td>0</td>\n",
       "      <td>1.085062</td>\n",
       "      <td>0.936398</td>\n",
       "    </tr>\n",
       "    <tr>\n",
       "      <th>4</th>\n",
       "      <td>5</td>\n",
       "      <td>1</td>\n",
       "      <td>0</td>\n",
       "      <td>1</td>\n",
       "      <td>-13.5590</td>\n",
       "      <td>1</td>\n",
       "      <td>0</td>\n",
       "      <td>-1.329794</td>\n",
       "      <td>-1.504975</td>\n",
       "    </tr>\n",
       "  </tbody>\n",
       "</table>\n",
       "</div>"
      ],
      "text/plain": [
       "   woman  district  use.contraception  living.children  age.centered  urban  \\\n",
       "0      1         1                  0                4       18.4400      1   \n",
       "1      2         1                  0                1       -5.5599      1   \n",
       "2      3         1                  0                3        1.4400      1   \n",
       "3      4         1                  0                4        8.4400      1   \n",
       "4      5         1                  0                1      -13.5590      1   \n",
       "\n",
       "   did  children       age  \n",
       "0    0  1.085062  2.046163  \n",
       "1    0 -1.329794 -0.617262  \n",
       "2    0  0.280110  0.159562  \n",
       "3    0  1.085062  0.936398  \n",
       "4    0 -1.329794 -1.504975  "
      ]
     },
     "execution_count": 7,
     "metadata": {},
     "output_type": "execute_result"
    }
   ],
   "source": [
    "d = pd.read_csv('../../data/bangladesh.csv', header=0, sep=';')\n",
    "d['did'] = pd.factorize(d['district'])[0]\n",
    "d['children'] = preprocessing.scale(d['living.children'])\n",
    "d['age'] = preprocessing.scale(d['age.centered'])\n",
    "d.head()"
   ]
  },
  {
   "cell_type": "code",
   "execution_count": 8,
   "metadata": {},
   "outputs": [],
   "source": [
    "did = theano.shared(np.array(d['did']))\n",
    "urban = theano.shared(np.array(d['urban']))\n",
    "age = theano.shared(np.array(d['age']))\n",
    "children = theano.shared(np.array(d['children']))\n",
    "C = theano.shared(np.array(d['use.contraception']))"
   ]
  },
  {
   "cell_type": "markdown",
   "metadata": {},
   "source": [
    "This is a conventional varying slopes model, with a centered parameterization. No surprises. If you peek at the posterior distributions for the average effects, you'll see that the average slope is positive:"
   ]
  },
  {
   "cell_type": "code",
   "execution_count": 9,
   "metadata": {},
   "outputs": [
    {
     "name": "stderr",
     "output_type": "stream",
     "text": [
      "Auto-assigning NUTS sampler...\n",
      "Initializing NUTS using jitter+adapt_diag...\n",
      "Multiprocess sampling (4 chains in 4 jobs)\n",
      "NUTS: [ab_did, chol_cov, b_bar, a_bar]\n",
      "Sampling 4 chains, 0 divergences: 100%|██████████| 10000/10000 [01:46<00:00, 26.71draws/s]\n",
      "The number of effective samples is smaller than 25% for some parameters.\n"
     ]
    }
   ],
   "source": [
    "with pm.Model() as model_11:\n",
    "    # Data is defined outside of the model\n",
    "    \n",
    "    # Priors\n",
    "    a_bar = pm.Normal('a_bar', mu=0, sd=1)\n",
    "    b_bar = pm.Normal('b_bar', mu=0, sd=0.5)\n",
    "    sigma = pm.Exponential.dist(lam=1)\n",
    "    \n",
    "    # Compute the covariance matrix\n",
    "    packed_chol = pm.LKJCholeskyCov('chol_cov', eta=2, n=2, sd_dist=sigma)\n",
    "    chol = pm.expand_packed_triangular(2, packed_chol, lower=True)\n",
    "    cov = tt.dot(chol, chol.T)\n",
    "    \n",
    "    # Extract the standard deviations and rho\n",
    "    sigma_ab = pm.Deterministic('sigma_ab', tt.sqrt(tt.diag(cov)))\n",
    "    corr = tt.diag(sigma_ab**-1).dot(cov.dot(tt.diag(sigma_ab**-1)))\n",
    "    #r = pm.Deterministic('Rho', corr)\n",
    "    r = pm.Deterministic('Rho', corr[np.triu_indices(2, k=1)])\n",
    "    # we just take the diagonal shifted down one position of the 2x2 matrix, in this case just one value for Rho \n",
    "    \n",
    "    # Logistic regression\n",
    "    ab_did = pm.MvNormal('ab_did', mu=[a_bar,b_bar], chol=chol, shape=(len(d['did'].unique()), len(d['urban'].unique())))\n",
    "    p = pm.math.invlogit(ab_did[:, 0][did] + ab_did[:, 1][did]*urban)\n",
    "    conc_hat = pm.Bernoulli('conc_hat', p=p, observed=C)\n",
    "\n",
    "    # Prior sampling, trace definition and posterior sampling\n",
    "    #prior = pm.sample_prior_predictive()\n",
    "    posterior_11 = pm.sample(tune=2000, target_accept=0.9)\n",
    "    #posterior_pred_11 = pm.sample_posterior_predictive(posterior_11)"
   ]
  },
  {
   "cell_type": "code",
   "execution_count": 10,
   "metadata": {},
   "outputs": [
    {
     "data": {
      "text/html": [
       "<div>\n",
       "<style scoped>\n",
       "    .dataframe tbody tr th:only-of-type {\n",
       "        vertical-align: middle;\n",
       "    }\n",
       "\n",
       "    .dataframe tbody tr th {\n",
       "        vertical-align: top;\n",
       "    }\n",
       "\n",
       "    .dataframe thead th {\n",
       "        text-align: right;\n",
       "    }\n",
       "</style>\n",
       "<table border=\"1\" class=\"dataframe\">\n",
       "  <thead>\n",
       "    <tr style=\"text-align: right;\">\n",
       "      <th></th>\n",
       "      <th>mean</th>\n",
       "      <th>sd</th>\n",
       "      <th>mcse_mean</th>\n",
       "      <th>mcse_sd</th>\n",
       "      <th>hpd_5.5%</th>\n",
       "      <th>hpd_94.5%</th>\n",
       "      <th>ess_mean</th>\n",
       "      <th>ess_sd</th>\n",
       "      <th>ess_bulk</th>\n",
       "      <th>ess_tail</th>\n",
       "      <th>r_hat</th>\n",
       "    </tr>\n",
       "  </thead>\n",
       "  <tbody>\n",
       "    <tr>\n",
       "      <th>a_bar</th>\n",
       "      <td>-0.69</td>\n",
       "      <td>0.10</td>\n",
       "      <td>0.00</td>\n",
       "      <td>0.00</td>\n",
       "      <td>-0.84</td>\n",
       "      <td>-0.53</td>\n",
       "      <td>1569.0</td>\n",
       "      <td>1569.0</td>\n",
       "      <td>1570.0</td>\n",
       "      <td>1392.0</td>\n",
       "      <td>1.00</td>\n",
       "    </tr>\n",
       "    <tr>\n",
       "      <th>b_bar</th>\n",
       "      <td>0.64</td>\n",
       "      <td>0.16</td>\n",
       "      <td>0.00</td>\n",
       "      <td>0.00</td>\n",
       "      <td>0.37</td>\n",
       "      <td>0.88</td>\n",
       "      <td>1225.0</td>\n",
       "      <td>1225.0</td>\n",
       "      <td>1213.0</td>\n",
       "      <td>1319.0</td>\n",
       "      <td>1.00</td>\n",
       "    </tr>\n",
       "    <tr>\n",
       "      <th>sigma_ab[0]</th>\n",
       "      <td>0.57</td>\n",
       "      <td>0.10</td>\n",
       "      <td>0.00</td>\n",
       "      <td>0.00</td>\n",
       "      <td>0.41</td>\n",
       "      <td>0.72</td>\n",
       "      <td>612.0</td>\n",
       "      <td>612.0</td>\n",
       "      <td>579.0</td>\n",
       "      <td>949.0</td>\n",
       "      <td>1.00</td>\n",
       "    </tr>\n",
       "    <tr>\n",
       "      <th>sigma_ab[1]</th>\n",
       "      <td>0.77</td>\n",
       "      <td>0.19</td>\n",
       "      <td>0.01</td>\n",
       "      <td>0.01</td>\n",
       "      <td>0.48</td>\n",
       "      <td>1.07</td>\n",
       "      <td>378.0</td>\n",
       "      <td>378.0</td>\n",
       "      <td>379.0</td>\n",
       "      <td>566.0</td>\n",
       "      <td>1.01</td>\n",
       "    </tr>\n",
       "    <tr>\n",
       "      <th>Rho[0]</th>\n",
       "      <td>-0.65</td>\n",
       "      <td>0.17</td>\n",
       "      <td>0.01</td>\n",
       "      <td>0.01</td>\n",
       "      <td>-0.90</td>\n",
       "      <td>-0.41</td>\n",
       "      <td>408.0</td>\n",
       "      <td>398.0</td>\n",
       "      <td>387.0</td>\n",
       "      <td>743.0</td>\n",
       "      <td>1.01</td>\n",
       "    </tr>\n",
       "  </tbody>\n",
       "</table>\n",
       "</div>"
      ],
      "text/plain": [
       "             mean    sd  mcse_mean  mcse_sd  hpd_5.5%  hpd_94.5%  ess_mean  \\\n",
       "a_bar       -0.69  0.10       0.00     0.00     -0.84      -0.53    1569.0   \n",
       "b_bar        0.64  0.16       0.00     0.00      0.37       0.88    1225.0   \n",
       "sigma_ab[0]  0.57  0.10       0.00     0.00      0.41       0.72     612.0   \n",
       "sigma_ab[1]  0.77  0.19       0.01     0.01      0.48       1.07     378.0   \n",
       "Rho[0]      -0.65  0.17       0.01     0.01     -0.90      -0.41     408.0   \n",
       "\n",
       "             ess_sd  ess_bulk  ess_tail  r_hat  \n",
       "a_bar        1569.0    1570.0    1392.0   1.00  \n",
       "b_bar        1225.0    1213.0    1319.0   1.00  \n",
       "sigma_ab[0]   612.0     579.0     949.0   1.00  \n",
       "sigma_ab[1]   378.0     379.0     566.0   1.01  \n",
       "Rho[0]        398.0     387.0     743.0   1.01  "
      ]
     },
     "execution_count": 10,
     "metadata": {},
     "output_type": "execute_result"
    }
   ],
   "source": [
    "az.summary(posterior_11, var_names=['a_bar','b_bar', 'sigma_ab','Rho'], credible_interval=.89).round(2)"
   ]
  },
  {
   "cell_type": "markdown",
   "metadata": {},
   "source": [
    "This implies that urban areas use contraception more. Not surprising. The correlation between the intercepts and slopes is quite negative. Let's plot the individual effects to appreciate this:"
   ]
  },
  {
   "cell_type": "code",
   "execution_count": 11,
   "metadata": {},
   "outputs": [],
   "source": [
    "aux_plot = pd.DataFrame(np.mean(posterior_11['ab_did'], axis=0)).rename({0:\"a\",1:\"b\"}, axis=1)\n",
    "aux_plot['u0'] = logistic(aux_plot.a)\n",
    "aux_plot['u1'] = logistic(aux_plot.a+aux_plot.b)"
   ]
  },
  {
   "cell_type": "code",
   "execution_count": 28,
   "metadata": {},
   "outputs": [
    {
     "data": {
      "application/vnd.vegalite.v3+json": {
       "$schema": "https://vega.github.io/schema/vega-lite/v3.3.0.json",
       "config": {
        "axis": {
         "grid": false
        },
        "mark": {
         "tooltip": null
        },
        "view": {
         "height": 300,
         "stroke": null,
         "width": 400
        }
       },
       "data": {
        "name": "data-b8758c02e5fd66312cd203f9f748426b"
       },
       "datasets": {
        "data-b8758c02e5fd66312cd203f9f748426b": [
         {
          "a": -1.5285622801957002,
          "b": 1.06093548201937,
          "u0": 0.17820413874476562,
          "u1": 0.3851781022423554
         },
         {
          "a": -0.6582337993902042,
          "b": 0.6162233895399176,
          "u0": 0.3411364755450922,
          "u1": 0.4894989419128365
         },
         {
          "a": -0.6721097574023762,
          "b": 0.9226576073852918,
          "u0": 0.3380245919050335,
          "u1": 0.5623113408423416
         },
         {
          "a": -0.8308513183391836,
          "b": 1.58900815945214,
          "u0": 0.30346509348584694,
          "u1": 0.6809534303520965
         },
         {
          "a": -0.6511778790064708,
          "b": 0.6162591792395192,
          "u0": 0.34272415409478385,
          "u1": 0.49127121196918494
         },
         {
          "a": -1.043366278500175,
          "b": 1.301439661195583,
          "u0": 0.2605009906429006,
          "u1": 0.5641626277568229
         },
         {
          "a": -0.8359914198750211,
          "b": 0.7658956783488403,
          "u0": 0.30237970836286726,
          "u1": 0.48248323628903467
         },
         {
          "a": -0.6635027914957973,
          "b": 0.9118304939517066,
          "u0": 0.339953197537261,
          "u1": 0.5617648487570495
         },
         {
          "a": -0.9203678991494985,
          "b": 1.009986844296449,
          "u0": 0.2848829382423581,
          "u1": 0.5223897529140076
         },
         {
          "a": -1.295798229711437,
          "b": 1.1957677378491611,
          "u0": 0.2148730172924032,
          "u1": 0.4750132085869798
         },
         {
          "a": -1.7327413932491509,
          "b": 1.5829451325456496,
          "u0": 0.15023726128337825,
          "u1": 0.4626208044290576
         },
         {
          "a": -0.6656495589404376,
          "b": 0.4269180710581767,
          "u0": 0.3394716607119965,
          "u1": 0.44059897924223174
         },
         {
          "a": -0.48117033247722085,
          "b": 0.275627521818792,
          "u0": 0.38197580636808,
          "u1": 0.44879444755317427
         },
         {
          "a": -0.6005031076362679,
          "b": 1.2216666193129742,
          "u0": 0.35422859911242965,
          "u1": 0.6504831248667929
         },
         {
          "a": -0.659953182803527,
          "b": 0.43028819613158614,
          "u0": 0.340750128460799,
          "u1": 0.44283480237312006
         },
         {
          "a": -0.28108600563381003,
          "b": 0.5784755950286515,
          "u0": 0.43018754744484833,
          "u1": 0.5738042565744784
         },
         {
          "a": -0.8220080582070065,
          "b": 0.7445868730385155,
          "u0": 0.3053375712038249,
          "u1": 0.48065436595120636
         },
         {
          "a": -0.8922879964329905,
          "b": 0.8583910675066673,
          "u0": 0.29063789105152277,
          "u1": 0.4915265790841997
         },
         {
          "a": -0.7323270713412192,
          "b": 0.9346496045190442,
          "u0": 0.324684275504036,
          "u1": 0.5504087959784463
         },
         {
          "a": -0.5319028921810633,
          "b": 0.4984773718279343,
          "u0": 0.3700731781028747,
          "u1": 0.4916443978493376
         },
         {
          "a": -0.26867993424655046,
          "b": -0.3251994211738129,
          "u0": 0.4332311979102679,
          "u1": 0.35574524591844503
         },
         {
          "a": -1.0791031472406971,
          "b": 0.9874975626097762,
          "u0": 0.25367577523776225,
          "u1": 0.47711460532877165
         },
         {
          "a": -0.8689704956255407,
          "b": 0.7870468010252302,
          "u0": 0.29546856559263673,
          "u1": 0.4795305234630834
         },
         {
          "a": -1.3282660635606465,
          "b": 1.1943380022364578,
          "u0": 0.20944632327162518,
          "u1": 0.46656794154141656
         },
         {
          "a": -0.32081658699179205,
          "b": 0.19778891600726461,
          "u0": 0.42047675224485603,
          "u1": 0.46928181785848955
         },
         {
          "a": -0.5933093211024925,
          "b": 0.5453120935555734,
          "u0": 0.35587590314678136,
          "u1": 0.4880029961834954
         },
         {
          "a": -1.3611841503848048,
          "b": 1.1427522641682704,
          "u0": 0.2040479142217814,
          "u1": 0.4456081209928655
         },
         {
          "a": -1.0307325181228604,
          "b": 0.7016284823777554,
          "u0": 0.26294211489728286,
          "u1": 0.4184586410190629
         },
         {
          "a": -1.0892855359469404,
          "b": 1.1433146739695488,
          "u0": 0.25175284050634117,
          "u1": 0.5135039996512757
         },
         {
          "a": -0.4736837020737197,
          "b": 1.0195038144560225,
          "u0": 0.3837447321431818,
          "u1": 0.6331652825238969
         },
         {
          "a": -0.3889686086299231,
          "b": 0.3940722738033025,
          "u0": 0.40396561181486185,
          "u1": 0.501275913523827
         },
         {
          "a": -1.0758178969722991,
          "b": 0.9772972305817516,
          "u0": 0.2542982563705311,
          "u1": 0.47538973644410953
         },
         {
          "a": -0.9546513020710011,
          "b": 1.2299661645100977,
          "u0": 0.2779503703006978,
          "u1": 0.5683972277674887
         },
         {
          "a": 0.4803988016427024,
          "b": -0.7068376893433743,
          "u0": 0.6178420415466827,
          "u1": 0.44363093080871707
         },
         {
          "a": -0.31713002189043094,
          "b": 0.43103350132873164,
          "u0": 0.4213753422979344,
          "u1": 0.5284451225829508
         },
         {
          "a": -0.6651907164319149,
          "b": 0.5106855998807709,
          "u0": 0.33957455484406995,
          "u1": 0.46145037787386506
         },
         {
          "a": -0.2610596603139406,
          "b": 0.2749218391581133,
          "u0": 0.435103238085185,
          "u1": 0.5034654892171863
         },
         {
          "a": -1.2067821028938321,
          "b": 1.2429686167801028,
          "u0": 0.2302709159437158,
          "u1": 0.5090456414147874
         },
         {
          "a": -0.24564463844654297,
          "b": 0.2630260448677723,
          "u0": 0.43889579071790297,
          "u1": 0.5043452422095734
         },
         {
          "a": -0.5404167365873694,
          "b": 0.4836296509075798,
          "u0": 0.3680906440388286,
          "u1": 0.48580704246404816
         },
         {
          "a": -0.10610619849434598,
          "b": -0.29267094475740507,
          "u0": 0.4734983098746279,
          "u1": 0.40160617978605545
         },
         {
          "a": -0.058390657585899834,
          "b": -0.28884457840035943,
          "u0": 0.4854064817134837,
          "u1": 0.41405302932204113
         },
         {
          "a": -0.21492166906135438,
          "b": 0.41075780787020016,
          "u0": 0.44647545509387404,
          "u1": 0.5488031602499656
         },
         {
          "a": -1.0458318435473484,
          "b": 0.9637110006219826,
          "u0": 0.26002630418165934,
          "u1": 0.4794813191855877
         },
         {
          "a": -0.9104233117487369,
          "b": 1.1969240877691179,
          "u0": 0.28691322238157546,
          "u1": 0.5711392499645173
         },
         {
          "a": -0.10697689051594952,
          "b": 0.45345593266483564,
          "u0": 0.47328125341294475,
          "u1": 0.5857634962173528
         },
         {
          "a": -0.5200434512254116,
          "b": 0.5118218326101894,
          "u0": 0.3728420733931887,
          "u1": 0.4979446069240414
         },
         {
          "a": -0.2471873641059941,
          "b": 0.3986268040773358,
          "u0": 0.4385159053014796,
          "u1": 0.5377876693501658
         },
         {
          "a": -1.0394363562144369,
          "b": 0.9482365803786073,
          "u0": 0.2612587640048432,
          "u1": 0.4772158459275645
         },
         {
          "a": -0.6694006780212468,
          "b": 1.1305807847186897,
          "u0": 0.3386310520010943,
          "u1": 0.6132940928855625
         },
         {
          "a": -0.6424514671251421,
          "b": 0.8318325972653411,
          "u0": 0.3446925923302751,
          "u1": 0.5472042841557518
         },
         {
          "a": -0.11679795115759195,
          "b": -0.4342714862156426,
          "u0": 0.470833661360496,
          "u1": 0.3656163269555755
         },
         {
          "a": -0.7038165951851117,
          "b": 0.4928377002597347,
          "u0": 0.3309665833967333,
          "u1": 0.4474500574781418
         },
         {
          "a": -0.7283942909243307,
          "b": 0.23499124366055718,
          "u0": 0.32554718807691746,
          "u1": 0.3790922249911665
         },
         {
          "a": -0.1281652381379961,
          "b": 0.43830215752323604,
          "u0": 0.46800247862807715,
          "u1": 0.5769186812489863
         },
         {
          "a": -1.1855474714168575,
          "b": 0.8731357577463085,
          "u0": 0.23405621255356449,
          "u1": 0.4225261763375758
         },
         {
          "a": -0.16933193839721528,
          "b": -0.1975788433205385,
          "u0": 0.4577678784191418,
          "u1": 0.40928769598456916
         },
         {
          "a": -1.1596085157809295,
          "b": 1.0639673661291376,
          "u0": 0.2387384271576314,
          "u1": 0.4761079220045395
         },
         {
          "a": -1.1567712463560929,
          "b": 0.7448674332175844,
          "u0": 0.2392544614598503,
          "u1": 0.3984557104503273
         },
         {
          "a": -1.1702760781903816,
          "b": 0.6901599223603097,
          "u0": 0.23680508546786813,
          "u1": 0.3822246970981104
         }
        ]
       },
       "hconcat": [
        {
         "layer": [
          {
           "encoding": {
            "x": {
             "field": "a",
             "title": "a (intercept)",
             "type": "quantitative"
            },
            "y": {
             "field": "b",
             "title": "b (urban slope)",
             "type": "quantitative"
            }
           },
           "mark": "circle"
          },
          {
           "encoding": {
            "size": {
             "value": 1
            },
            "x": {
             "field": "v",
             "type": "quantitative"
            }
           },
           "mark": {
            "color": "red",
            "type": "rule"
           }
          },
          {
           "encoding": {
            "size": {
             "value": 1
            },
            "y": {
             "field": "v",
             "type": "quantitative"
            }
           },
           "mark": {
            "color": "red",
            "type": "rule"
           }
          }
         ],
         "transform": [
          {
           "as": "v",
           "calculate": "0"
          }
         ]
        },
        {
         "layer": [
          {
           "encoding": {
            "x": {
             "field": "u0",
             "scale": {
              "domain": [
               0,
               1
              ]
             },
             "title": "urban = 0",
             "type": "quantitative"
            },
            "y": {
             "field": "u1",
             "scale": {
              "domain": [
               0,
               1
              ]
             },
             "title": "urban = 1",
             "type": "quantitative"
            }
           },
           "mark": "circle"
          },
          {
           "encoding": {
            "size": {
             "value": 1
            },
            "x": {
             "field": "v",
             "type": "quantitative"
            }
           },
           "mark": {
            "color": "red",
            "type": "rule"
           }
          },
          {
           "encoding": {
            "size": {
             "value": 1
            },
            "y": {
             "field": "v",
             "type": "quantitative"
            }
           },
           "mark": {
            "color": "red",
            "type": "rule"
           }
          }
         ],
         "transform": [
          {
           "as": "v",
           "calculate": "0.5"
          }
         ]
        }
       ]
      },
      "image/png": "[encoded data removed]",
      "text/plain": [
       "<VegaLite 3 object>\n",
       "\n",
       "If you see this message, it means the renderer has not been properly enabled\n",
       "for the frontend that you are using. For more information, see\n",
       "https://altair-viz.github.io/user_guide/troubleshooting.html\n"
      ]
     },
     "execution_count": 28,
     "metadata": {},
     "output_type": "execute_result"
    }
   ],
   "source": [
    "plot = alt.Chart(aux_plot)\\\n",
    "   .mark_circle()\\\n",
    "   .encode(\n",
    "        x=alt.X('a', title='a (intercept)'),\n",
    "        y=alt.Y('b', title='b (urban slope)')\n",
    "          )\n",
    "\n",
    "scale=alt.Scale(domain=(0,1))\n",
    "plot2 = alt.Chart(aux_plot)\\\n",
    "   .mark_circle()\\\n",
    "   .encode(\n",
    "        x=alt.X('u0', title='urban = 0', scale=scale),\n",
    "        y=alt.Y('u1', title='urban = 1', scale=scale)\n",
    "          )\n",
    "\n",
    "rule_v = alt.Chart(aux_plot).mark_rule(color='red').encode(x='v:Q', size=alt.value(1))\n",
    "rule_h = alt.Chart(aux_plot).mark_rule(color='red').encode(y='v:Q', size=alt.value(1))\n",
    "\n",
    "alt.hconcat((plot+rule_v+rule_h).transform_calculate(v=\"0\"),\n",
    "            (plot2+rule_v+rule_h).transform_calculate(v=\"0.5\")).configure_view(stroke=None).configure_axis(grid=False)"
   ]
  },
  {
   "cell_type": "markdown",
   "metadata": {},
   "source": [
    "There's the negative correlation: districts with higher use outside urban areas (`a` values) have smaller slopes. Since the slope is the difference between urban and non-urban areas, you can see this as saying that districts with high use in rural areas have urban areas that aren't as different.\n",
    "\n",
    "On the outcome scale, what this ends up meaning is that urban places are much the same in all districts, but rural areas vary a lot. \n",
    "\n",
    "_Right_ plot is on the probability scale. The horizontal axis is probability of contraceptive use in rural area of a district. The vertical is the probability in urban area of same district. The urban areas all straddle 0.5. Most the of the rural areas are below 0.5. The negative correlation between the intercepts and slopes is necessary to encode this pattern.\n",
    "\n",
    "In fact, if we fit the model so it instead has two intercepts, one for rural and one for urban, there is no strong correlation between those intercepts. Here's such a model:"
   ]
  },
  {
   "cell_type": "code",
   "execution_count": 33,
   "metadata": {},
   "outputs": [
    {
     "name": "stderr",
     "output_type": "stream",
     "text": [
      "Auto-assigning NUTS sampler...\n",
      "Initializing NUTS using jitter+adapt_diag...\n",
      "Multiprocess sampling (4 chains in 4 jobs)\n",
      "NUTS: [ab_did, chol_cov, b_bar, a_bar]\n",
      "Sampling 4 chains, 4 divergences: 100%|██████████| 10000/10000 [01:16<00:00, 131.48draws/s]\n",
      "There were 4 divergences after tuning. Increase `target_accept` or reparameterize.\n",
      "The acceptance probability does not match the target. It is 0.8338180077353416, but should be close to 0.9. Try to increase the number of tuning steps.\n",
      "The estimated number of effective samples is smaller than 200 for some parameters.\n"
     ]
    }
   ],
   "source": [
    "with pm.Model() as model_12:\n",
    "    # Data is defined outside of the model\n",
    "    \n",
    "    # Priors\n",
    "    a_bar = pm.Normal('a_bar', mu=0, sd=1)\n",
    "    b_bar = pm.Normal('b_bar', mu=0, sd=1)\n",
    "    sigma = pm.Exponential.dist(lam=1)\n",
    "    \n",
    "    # Compute the covariance matrix\n",
    "    packed_chol = pm.LKJCholeskyCov('chol_cov', eta=2, n=2, sd_dist=sigma)\n",
    "    chol = pm.expand_packed_triangular(2, packed_chol, lower=True)\n",
    "    cov = tt.dot(chol, chol.T)\n",
    "    \n",
    "    # Extract the standard deviations and rho\n",
    "    sigma_ab = pm.Deterministic('sigma_ab', tt.sqrt(tt.diag(cov)))\n",
    "    corr = tt.diag(sigma_ab**-1).dot(cov.dot(tt.diag(sigma_ab**-1)))\n",
    "    #r = pm.Deterministic('Rho', corr)\n",
    "    r = pm.Deterministic('Rho', corr[np.triu_indices(2, k=1)])\n",
    "    \n",
    "    # Logistic regression\n",
    "    ab_did = pm.MvNormal('ab_did', mu=[a_bar,b_bar], chol=chol, shape=(len(d['did'].unique()), len(d['urban'].unique())))\n",
    "    p = pm.math.invlogit(ab_did[did,urban])\n",
    "    conc_hat = pm.Bernoulli('conc_hat', p=p, observed=C)\n",
    "\n",
    "    # Prior sampling, trace definition and posterior sampling\n",
    "    #prior = pm.sample_prior_predictive()\n",
    "    posterior_12 = pm.sample(tune=2000, target_accept=0.9)\n",
    "    #posterior_pred_11 = pm.sample_posterior_predictive(posterior_21)"
   ]
  },
  {
   "cell_type": "code",
   "execution_count": 34,
   "metadata": {},
   "outputs": [
    {
     "data": {
      "text/html": [
       "<div>\n",
       "<style scoped>\n",
       "    .dataframe tbody tr th:only-of-type {\n",
       "        vertical-align: middle;\n",
       "    }\n",
       "\n",
       "    .dataframe tbody tr th {\n",
       "        vertical-align: top;\n",
       "    }\n",
       "\n",
       "    .dataframe thead th {\n",
       "        text-align: right;\n",
       "    }\n",
       "</style>\n",
       "<table border=\"1\" class=\"dataframe\">\n",
       "  <thead>\n",
       "    <tr style=\"text-align: right;\">\n",
       "      <th></th>\n",
       "      <th>mean</th>\n",
       "      <th>sd</th>\n",
       "      <th>mcse_mean</th>\n",
       "      <th>mcse_sd</th>\n",
       "      <th>hpd_5.5%</th>\n",
       "      <th>hpd_94.5%</th>\n",
       "      <th>ess_mean</th>\n",
       "      <th>ess_sd</th>\n",
       "      <th>ess_bulk</th>\n",
       "      <th>ess_tail</th>\n",
       "      <th>r_hat</th>\n",
       "    </tr>\n",
       "  </thead>\n",
       "  <tbody>\n",
       "    <tr>\n",
       "      <th>a_bar</th>\n",
       "      <td>-0.71</td>\n",
       "      <td>0.10</td>\n",
       "      <td>0.00</td>\n",
       "      <td>0.00</td>\n",
       "      <td>-0.86</td>\n",
       "      <td>-0.53</td>\n",
       "      <td>1353.0</td>\n",
       "      <td>1319.0</td>\n",
       "      <td>1349.0</td>\n",
       "      <td>1483.0</td>\n",
       "      <td>1.00</td>\n",
       "    </tr>\n",
       "    <tr>\n",
       "      <th>b_bar</th>\n",
       "      <td>0.02</td>\n",
       "      <td>0.13</td>\n",
       "      <td>0.00</td>\n",
       "      <td>0.00</td>\n",
       "      <td>-0.17</td>\n",
       "      <td>0.23</td>\n",
       "      <td>666.0</td>\n",
       "      <td>666.0</td>\n",
       "      <td>661.0</td>\n",
       "      <td>1206.0</td>\n",
       "      <td>1.01</td>\n",
       "    </tr>\n",
       "    <tr>\n",
       "      <th>sigma_ab[0]</th>\n",
       "      <td>0.62</td>\n",
       "      <td>0.11</td>\n",
       "      <td>0.00</td>\n",
       "      <td>0.00</td>\n",
       "      <td>0.46</td>\n",
       "      <td>0.80</td>\n",
       "      <td>541.0</td>\n",
       "      <td>537.0</td>\n",
       "      <td>546.0</td>\n",
       "      <td>1050.0</td>\n",
       "      <td>1.00</td>\n",
       "    </tr>\n",
       "    <tr>\n",
       "      <th>sigma_ab[1]</th>\n",
       "      <td>0.49</td>\n",
       "      <td>0.17</td>\n",
       "      <td>0.02</td>\n",
       "      <td>0.02</td>\n",
       "      <td>0.22</td>\n",
       "      <td>0.75</td>\n",
       "      <td>68.0</td>\n",
       "      <td>68.0</td>\n",
       "      <td>68.0</td>\n",
       "      <td>105.0</td>\n",
       "      <td>1.04</td>\n",
       "    </tr>\n",
       "    <tr>\n",
       "      <th>Rho[0]</th>\n",
       "      <td>-0.08</td>\n",
       "      <td>0.28</td>\n",
       "      <td>0.01</td>\n",
       "      <td>0.01</td>\n",
       "      <td>-0.48</td>\n",
       "      <td>0.42</td>\n",
       "      <td>463.0</td>\n",
       "      <td>463.0</td>\n",
       "      <td>463.0</td>\n",
       "      <td>726.0</td>\n",
       "      <td>1.01</td>\n",
       "    </tr>\n",
       "  </tbody>\n",
       "</table>\n",
       "</div>"
      ],
      "text/plain": [
       "             mean    sd  mcse_mean  mcse_sd  hpd_5.5%  hpd_94.5%  ess_mean  \\\n",
       "a_bar       -0.71  0.10       0.00     0.00     -0.86      -0.53    1353.0   \n",
       "b_bar        0.02  0.13       0.00     0.00     -0.17       0.23     666.0   \n",
       "sigma_ab[0]  0.62  0.11       0.00     0.00      0.46       0.80     541.0   \n",
       "sigma_ab[1]  0.49  0.17       0.02     0.02      0.22       0.75      68.0   \n",
       "Rho[0]      -0.08  0.28       0.01     0.01     -0.48       0.42     463.0   \n",
       "\n",
       "             ess_sd  ess_bulk  ess_tail  r_hat  \n",
       "a_bar        1319.0    1349.0    1483.0   1.00  \n",
       "b_bar         666.0     661.0    1206.0   1.01  \n",
       "sigma_ab[0]   537.0     546.0    1050.0   1.00  \n",
       "sigma_ab[1]    68.0      68.0     105.0   1.04  \n",
       "Rho[0]        463.0     463.0     726.0   1.01  "
      ]
     },
     "execution_count": 34,
     "metadata": {},
     "output_type": "execute_result"
    }
   ],
   "source": [
    "az.summary(posterior_12, var_names=['a_bar','b_bar', 'sigma_ab','Rho'], credible_interval=.89).round(2)"
   ]
  },
  {
   "cell_type": "markdown",
   "metadata": {},
   "source": [
    "Correlation all gone."
   ]
  },
  {
   "cell_type": "markdown",
   "metadata": {},
   "source": [
    "## Exercise 2"
   ]
  },
  {
   "cell_type": "markdown",
   "metadata": {},
   "source": [
    "> Now consider the predictor variables age.centered and living.children, also contained in data(`bangladesh`). Suppose that age influences contraceptive use (changing attitudes) and number of children (older people have had more time to have kids). Number of children may also directly influence contraceptive use. Draw a DAG that reflects these hypothetical relationships. Then build models needed to evaluate the DAG. You will need at least two models. Retain district and urban, as in Problem 1. What do you conclude about the causal influence of age and children?"
   ]
  },
  {
   "cell_type": "markdown",
   "metadata": {},
   "source": [
    "Here's my DAG:"
   ]
  },
  {
   "cell_type": "markdown",
   "metadata": {},
   "source": [
    "<img src=\"../../images/w9_img1.png\" width=\"20%\">"
   ]
  },
  {
   "cell_type": "markdown",
   "metadata": {},
   "source": [
    "`A` is age, `K` is number of children, and `C` is contraception use. To study this DAG, we should estimate both the total causal influence of `A` and then condition also on `K` and see if the direct influence of `A` is smaller. Here's the model for the total influence of A:"
   ]
  },
  {
   "cell_type": "code",
   "execution_count": 11,
   "metadata": {},
   "outputs": [
    {
     "name": "stderr",
     "output_type": "stream",
     "text": [
      "Auto-assigning NUTS sampler...\n",
      "Initializing NUTS using jitter+adapt_diag...\n",
      "Multiprocess sampling (4 chains in 4 jobs)\n",
      "NUTS: [ab_did, chol_cov, bA, b_bar, a_bar]\n",
      "Sampling 4 chains, 0 divergences: 100%|██████████| 6000/6000 [01:01<00:00, 98.04draws/s] \n",
      "The estimated number of effective samples is smaller than 200 for some parameters.\n"
     ]
    }
   ],
   "source": [
    "with pm.Model() as model_21:\n",
    "    # Data is defined outside of the model\n",
    "    \n",
    "    # Priors\n",
    "    a_bar = pm.Normal('a_bar', mu=0, sd=1)\n",
    "    b_bar = pm.Normal('b_bar', mu=0, sd=0.5)\n",
    "    bA = pm.Normal('bA', mu=0, sd=0.5)\n",
    "    sigma = pm.Exponential.dist(lam=1)\n",
    "    \n",
    "    # Compute the covariance matrix\n",
    "    packed_chol = pm.LKJCholeskyCov('chol_cov', eta=2, n=2, sd_dist=sigma)\n",
    "    chol = pm.expand_packed_triangular(2, packed_chol, lower=True)\n",
    "    cov = tt.dot(chol, chol.T)\n",
    "    \n",
    "    # Extract the standard deviations and rho\n",
    "    sigma_ab = pm.Deterministic('sigma_ab', tt.sqrt(tt.diag(cov)))\n",
    "    corr = tt.diag(sigma_ab**-1).dot(cov.dot(tt.diag(sigma_ab**-1)))\n",
    "    #r = pm.Deterministic('Rho', corr)\n",
    "    r = pm.Deterministic('Rho', corr[np.triu_indices(2, k=1)])\n",
    "    \n",
    "    # Logistic regression\n",
    "    ab_did = pm.MvNormal('ab_did', mu=[a_bar,b_bar], chol=chol, shape=(len(d['did'].unique()), len(d['urban'].unique())))\n",
    "    p = pm.math.invlogit(ab_did[:, 0][did]+ab_did[:, 1][did]*urban + bA*age)\n",
    "    conc_hat = pm.Bernoulli('conc_hat', p=p, observed=C)\n",
    "\n",
    "    # Prior sampling, trace definition and posterior sampling\n",
    "    #prior = pm.sample_prior_predictive()\n",
    "    posterior_21 = pm.sample(tune=1000)\n",
    "    #posterior_pred_21 = pm.sample_posterior_predictive(posterior_21)"
   ]
  },
  {
   "cell_type": "code",
   "execution_count": 12,
   "metadata": {},
   "outputs": [
    {
     "data": {
      "text/html": [
       "<div>\n",
       "<style scoped>\n",
       "    .dataframe tbody tr th:only-of-type {\n",
       "        vertical-align: middle;\n",
       "    }\n",
       "\n",
       "    .dataframe tbody tr th {\n",
       "        vertical-align: top;\n",
       "    }\n",
       "\n",
       "    .dataframe thead th {\n",
       "        text-align: right;\n",
       "    }\n",
       "</style>\n",
       "<table border=\"1\" class=\"dataframe\">\n",
       "  <thead>\n",
       "    <tr style=\"text-align: right;\">\n",
       "      <th></th>\n",
       "      <th>mean</th>\n",
       "      <th>sd</th>\n",
       "      <th>mcse_mean</th>\n",
       "      <th>mcse_sd</th>\n",
       "      <th>hpd_5.5%</th>\n",
       "      <th>hpd_94.5%</th>\n",
       "      <th>ess_mean</th>\n",
       "      <th>ess_sd</th>\n",
       "      <th>ess_bulk</th>\n",
       "      <th>ess_tail</th>\n",
       "      <th>r_hat</th>\n",
       "    </tr>\n",
       "  </thead>\n",
       "  <tbody>\n",
       "    <tr>\n",
       "      <th>a_bar</th>\n",
       "      <td>-0.68</td>\n",
       "      <td>0.10</td>\n",
       "      <td>0.0</td>\n",
       "      <td>0.0</td>\n",
       "      <td>-0.85</td>\n",
       "      <td>-0.54</td>\n",
       "      <td>1854.0</td>\n",
       "      <td>1824.0</td>\n",
       "      <td>1863.0</td>\n",
       "      <td>1412.0</td>\n",
       "      <td>1.0</td>\n",
       "    </tr>\n",
       "    <tr>\n",
       "      <th>b_bar</th>\n",
       "      <td>0.63</td>\n",
       "      <td>0.16</td>\n",
       "      <td>0.0</td>\n",
       "      <td>0.0</td>\n",
       "      <td>0.39</td>\n",
       "      <td>0.89</td>\n",
       "      <td>955.0</td>\n",
       "      <td>955.0</td>\n",
       "      <td>934.0</td>\n",
       "      <td>1260.0</td>\n",
       "      <td>1.0</td>\n",
       "    </tr>\n",
       "    <tr>\n",
       "      <th>bA</th>\n",
       "      <td>0.08</td>\n",
       "      <td>0.05</td>\n",
       "      <td>0.0</td>\n",
       "      <td>0.0</td>\n",
       "      <td>0.00</td>\n",
       "      <td>0.16</td>\n",
       "      <td>2565.0</td>\n",
       "      <td>1935.0</td>\n",
       "      <td>2572.0</td>\n",
       "      <td>1406.0</td>\n",
       "      <td>1.0</td>\n",
       "    </tr>\n",
       "  </tbody>\n",
       "</table>\n",
       "</div>"
      ],
      "text/plain": [
       "       mean    sd  mcse_mean  mcse_sd  hpd_5.5%  hpd_94.5%  ess_mean  ess_sd  \\\n",
       "a_bar -0.68  0.10        0.0      0.0     -0.85      -0.54    1854.0  1824.0   \n",
       "b_bar  0.63  0.16        0.0      0.0      0.39       0.89     955.0   955.0   \n",
       "bA     0.08  0.05        0.0      0.0      0.00       0.16    2565.0  1935.0   \n",
       "\n",
       "       ess_bulk  ess_tail  r_hat  \n",
       "a_bar    1863.0    1412.0    1.0  \n",
       "b_bar     934.0    1260.0    1.0  \n",
       "bA       2572.0    1406.0    1.0  "
      ]
     },
     "execution_count": 12,
     "metadata": {},
     "output_type": "execute_result"
    }
   ],
   "source": [
    "az.summary(posterior_21, var_names=['a_bar','b_bar', 'bA'], credible_interval=.89).round(2)"
   ]
  },
  {
   "cell_type": "markdown",
   "metadata": {},
   "source": [
    "In this model, the total causal effect of `age` is positive and very small. Older individuals use slightly more contraception. And now the model with both `K` and `A`:"
   ]
  },
  {
   "cell_type": "code",
   "execution_count": 13,
   "metadata": {},
   "outputs": [
    {
     "name": "stderr",
     "output_type": "stream",
     "text": [
      "Auto-assigning NUTS sampler...\n",
      "Initializing NUTS using jitter+adapt_diag...\n",
      "Multiprocess sampling (4 chains in 4 jobs)\n",
      "NUTS: [ab_did, chol_cov, bK, bA, b_bar, a_bar]\n",
      "Sampling 4 chains, 1 divergences: 100%|██████████| 6000/6000 [01:07<00:00, 88.27draws/s] \n",
      "There was 1 divergence after tuning. Increase `target_accept` or reparameterize.\n",
      "The number of effective samples is smaller than 25% for some parameters.\n"
     ]
    }
   ],
   "source": [
    "with pm.Model() as model_22:\n",
    "    # Data is defined outside of the model\n",
    "    \n",
    "    # Priors\n",
    "    a_bar = pm.Normal('a_bar', mu=0, sd=1)\n",
    "    b_bar = pm.Normal('b_bar', mu=0, sd=0.5)\n",
    "    bA = pm.Normal('bA', mu=0, sd=0.5)\n",
    "    bK = pm.Normal('bK', mu=0, sd=0.5)\n",
    "    sigma = pm.Exponential.dist(lam=1)\n",
    "    \n",
    "    # Compute the covariance matrix\n",
    "    packed_chol = pm.LKJCholeskyCov('chol_cov', eta=2, n=2, sd_dist=sigma)\n",
    "    chol = pm.expand_packed_triangular(2, packed_chol, lower=True)\n",
    "    cov = tt.dot(chol, chol.T)\n",
    "    \n",
    "    # Extract the standard deviations and rho\n",
    "    sigma_ab = pm.Deterministic('sigma_ab', tt.sqrt(tt.diag(cov)))\n",
    "    corr = tt.diag(sigma_ab**-1).dot(cov.dot(tt.diag(sigma_ab**-1)))\n",
    "    r = pm.Deterministic('Rho', corr)\n",
    "    #r = pm.Deterministic('Rho', corr[np.triu_indices(2, k=1)])\n",
    "    \n",
    "    # Logistic regression\n",
    "    ab_did = pm.MvNormal('ab_did', mu=[a_bar,b_bar], chol=chol, shape=(len(d['did'].unique()), len(d['urban'].unique())))\n",
    "    p = pm.math.invlogit(ab_did[:, 0][did]+ab_did[:, 1][did]*urban + bA*age + bK*children)\n",
    "    conc_hat = pm.Bernoulli('conc_hat', p=p, observed=C)\n",
    "\n",
    "    # Prior sampling, trace definition and posterior sampling\n",
    "    #prior = pm.sample_prior_predictive()\n",
    "    posterior_22 = pm.sample(tune=1000)\n",
    "    #posterior_pred_22 = pm.sample_posterior_predictive(posterior_22)"
   ]
  },
  {
   "cell_type": "code",
   "execution_count": 14,
   "metadata": {},
   "outputs": [
    {
     "data": {
      "text/html": [
       "<div>\n",
       "<style scoped>\n",
       "    .dataframe tbody tr th:only-of-type {\n",
       "        vertical-align: middle;\n",
       "    }\n",
       "\n",
       "    .dataframe tbody tr th {\n",
       "        vertical-align: top;\n",
       "    }\n",
       "\n",
       "    .dataframe thead th {\n",
       "        text-align: right;\n",
       "    }\n",
       "</style>\n",
       "<table border=\"1\" class=\"dataframe\">\n",
       "  <thead>\n",
       "    <tr style=\"text-align: right;\">\n",
       "      <th></th>\n",
       "      <th>mean</th>\n",
       "      <th>sd</th>\n",
       "      <th>mcse_mean</th>\n",
       "      <th>mcse_sd</th>\n",
       "      <th>hpd_5.5%</th>\n",
       "      <th>hpd_94.5%</th>\n",
       "      <th>ess_mean</th>\n",
       "      <th>ess_sd</th>\n",
       "      <th>ess_bulk</th>\n",
       "      <th>ess_tail</th>\n",
       "      <th>r_hat</th>\n",
       "    </tr>\n",
       "  </thead>\n",
       "  <tbody>\n",
       "    <tr>\n",
       "      <th>a_bar</th>\n",
       "      <td>-0.72</td>\n",
       "      <td>0.10</td>\n",
       "      <td>0.0</td>\n",
       "      <td>0.0</td>\n",
       "      <td>-0.89</td>\n",
       "      <td>-0.55</td>\n",
       "      <td>1700.0</td>\n",
       "      <td>1693.0</td>\n",
       "      <td>1706.0</td>\n",
       "      <td>1723.0</td>\n",
       "      <td>1.0</td>\n",
       "    </tr>\n",
       "    <tr>\n",
       "      <th>b_bar</th>\n",
       "      <td>0.69</td>\n",
       "      <td>0.16</td>\n",
       "      <td>0.0</td>\n",
       "      <td>0.0</td>\n",
       "      <td>0.44</td>\n",
       "      <td>0.95</td>\n",
       "      <td>1244.0</td>\n",
       "      <td>1239.0</td>\n",
       "      <td>1240.0</td>\n",
       "      <td>1046.0</td>\n",
       "      <td>1.0</td>\n",
       "    </tr>\n",
       "    <tr>\n",
       "      <th>bA</th>\n",
       "      <td>-0.26</td>\n",
       "      <td>0.07</td>\n",
       "      <td>0.0</td>\n",
       "      <td>0.0</td>\n",
       "      <td>-0.37</td>\n",
       "      <td>-0.15</td>\n",
       "      <td>1719.0</td>\n",
       "      <td>1719.0</td>\n",
       "      <td>1716.0</td>\n",
       "      <td>1466.0</td>\n",
       "      <td>1.0</td>\n",
       "    </tr>\n",
       "    <tr>\n",
       "      <th>bK</th>\n",
       "      <td>0.51</td>\n",
       "      <td>0.07</td>\n",
       "      <td>0.0</td>\n",
       "      <td>0.0</td>\n",
       "      <td>0.40</td>\n",
       "      <td>0.62</td>\n",
       "      <td>1763.0</td>\n",
       "      <td>1763.0</td>\n",
       "      <td>1759.0</td>\n",
       "      <td>1319.0</td>\n",
       "      <td>1.0</td>\n",
       "    </tr>\n",
       "  </tbody>\n",
       "</table>\n",
       "</div>"
      ],
      "text/plain": [
       "       mean    sd  mcse_mean  mcse_sd  hpd_5.5%  hpd_94.5%  ess_mean  ess_sd  \\\n",
       "a_bar -0.72  0.10        0.0      0.0     -0.89      -0.55    1700.0  1693.0   \n",
       "b_bar  0.69  0.16        0.0      0.0      0.44       0.95    1244.0  1239.0   \n",
       "bA    -0.26  0.07        0.0      0.0     -0.37      -0.15    1719.0  1719.0   \n",
       "bK     0.51  0.07        0.0      0.0      0.40       0.62    1763.0  1763.0   \n",
       "\n",
       "       ess_bulk  ess_tail  r_hat  \n",
       "a_bar    1706.0    1723.0    1.0  \n",
       "b_bar    1240.0    1046.0    1.0  \n",
       "bA       1716.0    1466.0    1.0  \n",
       "bK       1759.0    1319.0    1.0  "
      ]
     },
     "execution_count": 14,
     "metadata": {},
     "output_type": "execute_result"
    }
   ],
   "source": [
    "az.summary(posterior_22, var_names=['a_bar','b_bar', 'bA', 'bK'], credible_interval=.89).round(2)"
   ]
  },
  {
   "cell_type": "markdown",
   "metadata": {},
   "source": [
    "In this model, the direct effect of `age` is negative, and much farther from zero than before. The effect of number of children is strong and positive. These results are consistent with the DAG, because they imply that the reason the total effect of age, from `model_21`, is positive is that older individuals also have more kids. Having more kids increases contraception. Being older, controlling for kids, actually makes contraception less likely."
   ]
  },
  {
   "cell_type": "markdown",
   "metadata": {},
   "source": [
    "## Exercise 3"
   ]
  },
  {
   "cell_type": "markdown",
   "metadata": {},
   "source": [
    "> Modify any models from Problem 2 that contained that `children` variable and model the variable now as a monotonic ordered category, like education from the week we did ordered categories. Education in that example had 8 categories. Children here will have fewer (no one in the sample had 8 children). So modify the code appropriately. What do you conclude about the causal influence of each additional child on use of contraception?"
   ]
  },
  {
   "cell_type": "code",
   "execution_count": 15,
   "metadata": {},
   "outputs": [],
   "source": [
    "d['children'] = d['living.children']-1\n",
    "children = theano.shared(np.array(d['children'])) # remember for monotonic ordered variables we have to start the categories at zero"
   ]
  },
  {
   "cell_type": "markdown",
   "metadata": {},
   "source": [
    "To build this model, you need the ordered categorical predictor machinery from the book example. The maximum observed number of kids in the sample is 4. So that means we need three parameters, for three transitions in number of kids."
   ]
  },
  {
   "cell_type": "code",
   "execution_count": 18,
   "metadata": {},
   "outputs": [],
   "source": [
    "a = theano.shared(np.zeros(1,))\n",
    "children_new = d['children'].values\n",
    "children_new_total = np.zeros((len(children_new), 4), int)\n",
    "for ic, i in enumerate(children_new):\n",
    "    if i > 0:\n",
    "        children_new_total[ic, :i+1] = np.arange(i+1)"
   ]
  },
  {
   "cell_type": "code",
   "execution_count": 21,
   "metadata": {},
   "outputs": [
    {
     "data": {
      "text/plain": [
       "array([0, 1, 2, 0])"
      ]
     },
     "execution_count": 21,
     "metadata": {},
     "output_type": "execute_result"
    }
   ],
   "source": [
    "children_new_total[30] # i.e. woman with index 30 has two children"
   ]
  },
  {
   "cell_type": "code",
   "execution_count": 24,
   "metadata": {},
   "outputs": [
    {
     "name": "stderr",
     "output_type": "stream",
     "text": [
      "Auto-assigning NUTS sampler...\n",
      "Initializing NUTS using jitter+adapt_diag...\n",
      "Multiprocess sampling (4 chains in 4 jobs)\n",
      "NUTS: [ab_did, children_coefs, chol_cov, bK, bA, b_bar, a_bar]\n",
      "Sampling 4 chains, 0 divergences: 100%|██████████| 10000/10000 [02:29<00:00, 66.89draws/s]\n",
      "The estimated number of effective samples is smaller than 200 for some parameters.\n"
     ]
    }
   ],
   "source": [
    "with pm.Model() as model_31:\n",
    "    # Data is defined outside of the model\n",
    "    \n",
    "    # Priors\n",
    "    a_bar = pm.Normal('a_bar', mu=0, sd=1)\n",
    "    b_bar = pm.Normal('b_bar', mu=0, sd=0.5)\n",
    "    bA = pm.Normal('bA', mu=0, sd=0.5)\n",
    "    bK = pm.Normal('bK', mu=0, sd=0.5)\n",
    "    sigma = pm.Exponential.dist(lam=1)\n",
    "    \n",
    "    # Compute the covariance matrix\n",
    "    packed_chol = pm.LKJCholeskyCov('chol_cov', eta=2, n=2, sd_dist=sigma)\n",
    "    chol = pm.expand_packed_triangular(2, packed_chol, lower=True)\n",
    "    cov = tt.dot(chol, chol.T)\n",
    "    \n",
    "    # Extract the standard deviations and rho\n",
    "    sigma_ab = pm.Deterministic('sigma_ab', tt.sqrt(tt.diag(cov)))\n",
    "    corr = tt.diag(sigma_ab**-1).dot(cov.dot(tt.diag(sigma_ab**-1)))\n",
    "    r = pm.Deterministic('Rho', corr)\n",
    "    #r = pm.Deterministic('Rho', corr[np.triu_indices(2, k=1)])\n",
    "    \n",
    "    children_coefs = pm.Dirichlet('children_coefs', a=np.ones(3))\n",
    "    children_aux = tt.concatenate([a, children_coefs])\n",
    "    \n",
    "    ab_did = pm.MvNormal('ab_did', mu=[a_bar,b_bar], chol=chol, shape=(len(d['did'].unique()), len(d['urban'].unique())))\n",
    "    p = pm.math.invlogit(ab_did[:, 0][did]+ab_did[:, 1][did]*urban + bA*age + bK*tt.sum(children_aux[children_new_total], axis=1))\n",
    "    conc_hat = pm.Bernoulli('conc_hat', p=p, observed=C)\n",
    "\n",
    "    # Prior sampling, trace definition and posterior sampling\n",
    "    #prior = pm.sample_prior_predictive()\n",
    "    posterior_31 = pm.sample(tune=2000, target_accept=0.9)\n",
    "    #posterior_pred_31 = pm.sample_posterior_predictive(posterior_31)"
   ]
  },
  {
   "cell_type": "code",
   "execution_count": 25,
   "metadata": {},
   "outputs": [
    {
     "data": {
      "text/html": [
       "<div>\n",
       "<style scoped>\n",
       "    .dataframe tbody tr th:only-of-type {\n",
       "        vertical-align: middle;\n",
       "    }\n",
       "\n",
       "    .dataframe tbody tr th {\n",
       "        vertical-align: top;\n",
       "    }\n",
       "\n",
       "    .dataframe thead th {\n",
       "        text-align: right;\n",
       "    }\n",
       "</style>\n",
       "<table border=\"1\" class=\"dataframe\">\n",
       "  <thead>\n",
       "    <tr style=\"text-align: right;\">\n",
       "      <th></th>\n",
       "      <th>mean</th>\n",
       "      <th>sd</th>\n",
       "      <th>mcse_mean</th>\n",
       "      <th>mcse_sd</th>\n",
       "      <th>hpd_5.5%</th>\n",
       "      <th>hpd_94.5%</th>\n",
       "      <th>ess_mean</th>\n",
       "      <th>ess_sd</th>\n",
       "      <th>ess_bulk</th>\n",
       "      <th>ess_tail</th>\n",
       "      <th>r_hat</th>\n",
       "    </tr>\n",
       "  </thead>\n",
       "  <tbody>\n",
       "    <tr>\n",
       "      <th>a_bar</th>\n",
       "      <td>-1.56</td>\n",
       "      <td>0.15</td>\n",
       "      <td>0.01</td>\n",
       "      <td>0.0</td>\n",
       "      <td>-1.78</td>\n",
       "      <td>-1.30</td>\n",
       "      <td>496.0</td>\n",
       "      <td>482.0</td>\n",
       "      <td>492.0</td>\n",
       "      <td>1104.0</td>\n",
       "      <td>1.01</td>\n",
       "    </tr>\n",
       "    <tr>\n",
       "      <th>b_bar</th>\n",
       "      <td>0.68</td>\n",
       "      <td>0.16</td>\n",
       "      <td>0.00</td>\n",
       "      <td>0.0</td>\n",
       "      <td>0.44</td>\n",
       "      <td>0.96</td>\n",
       "      <td>1179.0</td>\n",
       "      <td>1179.0</td>\n",
       "      <td>1181.0</td>\n",
       "      <td>1514.0</td>\n",
       "      <td>1.00</td>\n",
       "    </tr>\n",
       "    <tr>\n",
       "      <th>bA</th>\n",
       "      <td>-0.21</td>\n",
       "      <td>0.07</td>\n",
       "      <td>0.00</td>\n",
       "      <td>0.0</td>\n",
       "      <td>-0.31</td>\n",
       "      <td>-0.10</td>\n",
       "      <td>1255.0</td>\n",
       "      <td>1255.0</td>\n",
       "      <td>1261.0</td>\n",
       "      <td>1469.0</td>\n",
       "      <td>1.01</td>\n",
       "    </tr>\n",
       "    <tr>\n",
       "      <th>bK</th>\n",
       "      <td>1.24</td>\n",
       "      <td>0.15</td>\n",
       "      <td>0.01</td>\n",
       "      <td>0.0</td>\n",
       "      <td>0.98</td>\n",
       "      <td>1.48</td>\n",
       "      <td>469.0</td>\n",
       "      <td>469.0</td>\n",
       "      <td>469.0</td>\n",
       "      <td>1209.0</td>\n",
       "      <td>1.01</td>\n",
       "    </tr>\n",
       "    <tr>\n",
       "      <th>children_coefs[0]</th>\n",
       "      <td>0.80</td>\n",
       "      <td>0.09</td>\n",
       "      <td>0.00</td>\n",
       "      <td>0.0</td>\n",
       "      <td>0.66</td>\n",
       "      <td>0.94</td>\n",
       "      <td>2932.0</td>\n",
       "      <td>2700.0</td>\n",
       "      <td>2642.0</td>\n",
       "      <td>1306.0</td>\n",
       "      <td>1.00</td>\n",
       "    </tr>\n",
       "    <tr>\n",
       "      <th>children_coefs[1]</th>\n",
       "      <td>0.13</td>\n",
       "      <td>0.08</td>\n",
       "      <td>0.00</td>\n",
       "      <td>0.0</td>\n",
       "      <td>0.00</td>\n",
       "      <td>0.25</td>\n",
       "      <td>3136.0</td>\n",
       "      <td>2911.0</td>\n",
       "      <td>2601.0</td>\n",
       "      <td>1353.0</td>\n",
       "      <td>1.00</td>\n",
       "    </tr>\n",
       "    <tr>\n",
       "      <th>children_coefs[2]</th>\n",
       "      <td>0.07</td>\n",
       "      <td>0.05</td>\n",
       "      <td>0.00</td>\n",
       "      <td>0.0</td>\n",
       "      <td>0.00</td>\n",
       "      <td>0.14</td>\n",
       "      <td>3238.0</td>\n",
       "      <td>2281.0</td>\n",
       "      <td>3189.0</td>\n",
       "      <td>1512.0</td>\n",
       "      <td>1.00</td>\n",
       "    </tr>\n",
       "  </tbody>\n",
       "</table>\n",
       "</div>"
      ],
      "text/plain": [
       "                   mean    sd  mcse_mean  mcse_sd  hpd_5.5%  hpd_94.5%  \\\n",
       "a_bar             -1.56  0.15       0.01      0.0     -1.78      -1.30   \n",
       "b_bar              0.68  0.16       0.00      0.0      0.44       0.96   \n",
       "bA                -0.21  0.07       0.00      0.0     -0.31      -0.10   \n",
       "bK                 1.24  0.15       0.01      0.0      0.98       1.48   \n",
       "children_coefs[0]  0.80  0.09       0.00      0.0      0.66       0.94   \n",
       "children_coefs[1]  0.13  0.08       0.00      0.0      0.00       0.25   \n",
       "children_coefs[2]  0.07  0.05       0.00      0.0      0.00       0.14   \n",
       "\n",
       "                   ess_mean  ess_sd  ess_bulk  ess_tail  r_hat  \n",
       "a_bar                 496.0   482.0     492.0    1104.0   1.01  \n",
       "b_bar                1179.0  1179.0    1181.0    1514.0   1.00  \n",
       "bA                   1255.0  1255.0    1261.0    1469.0   1.01  \n",
       "bK                    469.0   469.0     469.0    1209.0   1.01  \n",
       "children_coefs[0]    2932.0  2700.0    2642.0    1306.0   1.00  \n",
       "children_coefs[1]    3136.0  2911.0    2601.0    1353.0   1.00  \n",
       "children_coefs[2]    3238.0  2281.0    3189.0    1512.0   1.00  "
      ]
     },
     "execution_count": 25,
     "metadata": {},
     "output_type": "execute_result"
    }
   ],
   "source": [
    "az.summary(posterior_31, var_names=['a_bar','b_bar', 'bA', 'bK', 'children_coefs'], credible_interval=.89).round(2)"
   ]
  },
  {
   "cell_type": "markdown",
   "metadata": {},
   "source": [
    "So the general effects are the same: `age` reduces use and kids increase it (_parameter `bA`_). `children_coefs[0]` is the transition from 1 to 2 kids. It is much larger than the other two parameters. So most of the influence of kids on contraception comes from having a second child."
   ]
  }
 ],
 "metadata": {
  "kernelspec": {
   "display_name": "py_36_gabi",
   "language": "python",
   "name": "py_36_gabi"
  },
  "language_info": {
   "codemirror_mode": {
    "name": "ipython",
    "version": 3
   },
   "file_extension": ".py",
   "mimetype": "text/x-python",
   "name": "python",
   "nbconvert_exporter": "python",
   "pygments_lexer": "ipython3",
   "version": "3.6.6"
  }
 },
 "nbformat": 4,
 "nbformat_minor": 4
}
