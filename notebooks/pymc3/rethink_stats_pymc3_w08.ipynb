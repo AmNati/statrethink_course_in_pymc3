{
 "cells": [
  {
   "cell_type": "markdown",
   "metadata": {},
   "source": [
    "# Rethinking Statistics course in pymc3 - Week 8"
   ]
  },
  {
   "cell_type": "markdown",
   "metadata": {},
   "source": [
    "Lecture 15: Multilevel Models\n",
    "\n",
    "- [Video](https://www.youtube.com/watch?v=AALYPv5xSos)\n",
    "- [Slides](https://speakerdeck.com/rmcelreath/l15-statistical-rethinking-winter-2019)\n",
    "\n",
    "Lecture 16: Multilevel Models 2\n",
    "\n",
    "- [Video](https://www.youtube.com/watch?v=ZG3Oe35R5sY)\n",
    "- [Slides](https://speakerdeck.com/rmcelreath/l16-statistical-rethinking-winter-2019)\n",
    "\n",
    "[Proposed problems](https://github.com/gbosquechacon/statrethinking_winter2019/blob/master/homework/week08.pdf) and [solutions in R](https://github.com/gbosquechacon/statrethinking_winter2019/blob/master/homework/week08_solutions.pdf) for the exercises of the week."
   ]
  },
  {
   "cell_type": "code",
   "execution_count": 1,
   "metadata": {},
   "outputs": [],
   "source": [
    "%matplotlib inline\n",
    "import pymc3 as pm\n",
    "import numpy as np\n",
    "import pandas as pd\n",
    "import theano\n",
    "import theano.tensor as tt\n",
    "from scipy import stats\n",
    "from scipy.special import expit as logistic\n",
    "from sklearn import preprocessing\n",
    "\n",
    "import matplotlib.pyplot as plt\n",
    "import altair as alt\n",
    "alt.data_transformers.enable('default', max_rows=None)\n",
    "import arviz as az\n",
    "\n",
    "import warnings\n",
    "warnings.filterwarnings('ignore')"
   ]
  },
  {
   "cell_type": "markdown",
   "metadata": {},
   "source": [
    "## Exercise 1"
   ]
  },
  {
   "cell_type": "markdown",
   "metadata": {},
   "source": [
    "> Revisit the Reed frog survival data, `reedfrogs`, and add the predation and size treatment variables to the varying intercepts model. Consider models with either predictor alone, both predictors, as well as a model including their interaction. What do you infer about the causal influence of these predictor variables? Also focus on the inferred variation across tanks (the σ across tanks). Explain why it changes as it does across models with different predictors included."
   ]
  },
  {
   "cell_type": "markdown",
   "metadata": {},
   "source": [
    "Let's get the data."
   ]
  },
  {
   "cell_type": "code",
   "execution_count": 2,
   "metadata": {},
   "outputs": [
    {
     "data": {
      "text/html": [
       "<div>\n",
       "<style scoped>\n",
       "    .dataframe tbody tr th:only-of-type {\n",
       "        vertical-align: middle;\n",
       "    }\n",
       "\n",
       "    .dataframe tbody tr th {\n",
       "        vertical-align: top;\n",
       "    }\n",
       "\n",
       "    .dataframe thead th {\n",
       "        text-align: right;\n",
       "    }\n",
       "</style>\n",
       "<table border=\"1\" class=\"dataframe\">\n",
       "  <thead>\n",
       "    <tr style=\"text-align: right;\">\n",
       "      <th></th>\n",
       "      <th>density</th>\n",
       "      <th>pred</th>\n",
       "      <th>size</th>\n",
       "      <th>surv</th>\n",
       "      <th>propsurv</th>\n",
       "      <th>S</th>\n",
       "      <th>n</th>\n",
       "      <th>tank</th>\n",
       "    </tr>\n",
       "  </thead>\n",
       "  <tbody>\n",
       "    <tr>\n",
       "      <th>0</th>\n",
       "      <td>10</td>\n",
       "      <td>0</td>\n",
       "      <td>1</td>\n",
       "      <td>9</td>\n",
       "      <td>0.9</td>\n",
       "      <td>9</td>\n",
       "      <td>10</td>\n",
       "      <td>0</td>\n",
       "    </tr>\n",
       "    <tr>\n",
       "      <th>1</th>\n",
       "      <td>10</td>\n",
       "      <td>0</td>\n",
       "      <td>1</td>\n",
       "      <td>10</td>\n",
       "      <td>1.0</td>\n",
       "      <td>10</td>\n",
       "      <td>10</td>\n",
       "      <td>1</td>\n",
       "    </tr>\n",
       "    <tr>\n",
       "      <th>2</th>\n",
       "      <td>10</td>\n",
       "      <td>0</td>\n",
       "      <td>1</td>\n",
       "      <td>7</td>\n",
       "      <td>0.7</td>\n",
       "      <td>7</td>\n",
       "      <td>10</td>\n",
       "      <td>2</td>\n",
       "    </tr>\n",
       "    <tr>\n",
       "      <th>3</th>\n",
       "      <td>10</td>\n",
       "      <td>0</td>\n",
       "      <td>1</td>\n",
       "      <td>10</td>\n",
       "      <td>1.0</td>\n",
       "      <td>10</td>\n",
       "      <td>10</td>\n",
       "      <td>3</td>\n",
       "    </tr>\n",
       "    <tr>\n",
       "      <th>4</th>\n",
       "      <td>10</td>\n",
       "      <td>0</td>\n",
       "      <td>0</td>\n",
       "      <td>9</td>\n",
       "      <td>0.9</td>\n",
       "      <td>9</td>\n",
       "      <td>10</td>\n",
       "      <td>4</td>\n",
       "    </tr>\n",
       "  </tbody>\n",
       "</table>\n",
       "</div>"
      ],
      "text/plain": [
       "   density  pred  size  surv  propsurv   S   n  tank\n",
       "0       10     0     1     9       0.9   9  10     0\n",
       "1       10     0     1    10       1.0  10  10     1\n",
       "2       10     0     1     7       0.7   7  10     2\n",
       "3       10     0     1    10       1.0  10  10     3\n",
       "4       10     0     0     9       0.9   9  10     4"
      ]
     },
     "execution_count": 2,
     "metadata": {},
     "output_type": "execute_result"
    }
   ],
   "source": [
    "d = pd.read_csv('../../data/reedfrogs.csv', header=0, sep=';')\n",
    "d['S'] = d.surv\n",
    "d['n'] = d.density\n",
    "d['tank'] = d.index\n",
    "d['pred'] = pd.factorize(d['pred'])[0]\n",
    "#d['size'] = pd.factorize(d['size'])[0]\n",
    "d['size'] = np.where(d['size']=='small',0,1)\n",
    "d.head()"
   ]
  },
  {
   "cell_type": "code",
   "execution_count": 3,
   "metadata": {},
   "outputs": [],
   "source": [
    "n = theano.shared(d['n'].values)\n",
    "tank = theano.shared(d['tank'].values)\n",
    "pred = theano.shared(d['pred'].values)\n",
    "size = theano.shared(d['size'].values)\n",
    "S = theano.shared(d['S'].values)"
   ]
  },
  {
   "cell_type": "markdown",
   "metadata": {},
   "source": [
    "Now to define a series of models. The first is just the varying intercepts model from the text."
   ]
  },
  {
   "cell_type": "markdown",
   "metadata": {},
   "source": [
    "Model 1:"
   ]
  },
  {
   "cell_type": "code",
   "execution_count": 4,
   "metadata": {},
   "outputs": [
    {
     "name": "stderr",
     "output_type": "stream",
     "text": [
      "Auto-assigning NUTS sampler...\n",
      "Initializing NUTS using jitter+adapt_diag...\n",
      "Multiprocess sampling (4 chains in 4 jobs)\n",
      "NUTS: [a, sigma, a_bar]\n",
      "Sampling 4 chains, 0 divergences: 100%|██████████| 6000/6000 [00:07<00:00, 829.10draws/s] \n",
      "100%|██████████| 2000/2000 [00:39<00:00, 50.12it/s]\n"
     ]
    }
   ],
   "source": [
    "with pm.Model() as model_11:\n",
    "    # Data is defined outside of the model\n",
    "    \n",
    "    # Priors\n",
    "    a_bar = pm.Normal('a_bar', mu=0, sd=1.5)\n",
    "    sigma = pm.Exponential('sigma', lam=1)\n",
    "    a = pm.Normal('a', mu=a_bar, sd=sigma, shape=len(d['tank'].unique()))\n",
    "    \n",
    "    # Logistic regression\n",
    "    p = pm.math.invlogit(a[tank])\n",
    "    surv_hat = pm.Binomial('surv_hat', p=p, n=n, observed=S)\n",
    "\n",
    "    # Prior sampling, trace definition and posterior sampling\n",
    "    prior = pm.sample_prior_predictive()\n",
    "    posterior_11 = pm.sample(tune=1000)\n",
    "    posterior_pred_11 = pm.sample_posterior_predictive(posterior_11)"
   ]
  },
  {
   "cell_type": "markdown",
   "metadata": {},
   "source": [
    "Model 2 (pred):"
   ]
  },
  {
   "cell_type": "code",
   "execution_count": 5,
   "metadata": {},
   "outputs": [
    {
     "name": "stderr",
     "output_type": "stream",
     "text": [
      "Auto-assigning NUTS sampler...\n",
      "Initializing NUTS using jitter+adapt_diag...\n",
      "Multiprocess sampling (4 chains in 4 jobs)\n",
      "NUTS: [a, bp, sigma, a_bar]\n",
      "Sampling 4 chains, 0 divergences: 100%|██████████| 6000/6000 [00:12<00:00, 480.91draws/s]\n",
      "The number of effective samples is smaller than 25% for some parameters.\n",
      "100%|██████████| 2000/2000 [00:41<00:00, 48.16it/s]\n"
     ]
    }
   ],
   "source": [
    "with pm.Model() as model_12:\n",
    "    # Data is defined outside of the model\n",
    "    \n",
    "    # Priors\n",
    "    a_bar = pm.Normal('a_bar', mu=0, sd=1.5)\n",
    "    sigma = pm.Exponential('sigma', lam=1)\n",
    "    bp = pm.Normal('bp', mu=-0.5, sd=1)\n",
    "    a = pm.Normal('a', mu=a_bar, sd=sigma, shape=len(d['tank'].unique()))\n",
    "    \n",
    "    # Logistic regression\n",
    "    p = pm.math.invlogit(a[tank]+bp*pred)\n",
    "    surv_hat = pm.Binomial('surv_hat', p=p, n=n, observed=S)\n",
    "\n",
    "    # Prior sampling, trace definition and posterior sampling\n",
    "    prior = pm.sample_prior_predictive()\n",
    "    posterior_12 = pm.sample(tune=1000)\n",
    "    posterior_pred_12 = pm.sample_posterior_predictive(posterior_12)"
   ]
  },
  {
   "cell_type": "markdown",
   "metadata": {},
   "source": [
    "Model 3 (size):"
   ]
  },
  {
   "cell_type": "code",
   "execution_count": 6,
   "metadata": {},
   "outputs": [
    {
     "name": "stderr",
     "output_type": "stream",
     "text": [
      "Auto-assigning NUTS sampler...\n",
      "Initializing NUTS using jitter+adapt_diag...\n",
      "Multiprocess sampling (4 chains in 4 jobs)\n",
      "NUTS: [s, a, sigma, a_bar]\n",
      "Sampling 4 chains, 0 divergences: 100%|██████████| 6000/6000 [00:13<00:00, 435.39draws/s]\n",
      "100%|██████████| 2000/2000 [00:39<00:00, 59.80it/s]\n"
     ]
    }
   ],
   "source": [
    "with pm.Model() as model_13:\n",
    "    # Data is defined outside of the model\n",
    "    \n",
    "    # Priors\n",
    "    a_bar = pm.Normal('a_bar', mu=0, sd=1.5)\n",
    "    sigma = pm.Exponential('sigma', lam=1)\n",
    "    a = pm.Normal('a', mu=a_bar, sd=sigma, shape=len(d['tank'].unique()))\n",
    "    s = pm.Normal('s', mu=0, sd=0.5, shape=len(d['size'].unique()))\n",
    "    \n",
    "    # Logistic regression\n",
    "    p = pm.math.invlogit(a[tank] + s[size])\n",
    "    surv_hat = pm.Binomial('surv_hat', p=p, n=n, observed=S)\n",
    "\n",
    "    # Prior sampling, trace definition and posterior sampling\n",
    "    prior = pm.sample_prior_predictive()\n",
    "    posterior_13 = pm.sample(tune=1000)\n",
    "    posterior_pred_13 = pm.sample_posterior_predictive(posterior_13)"
   ]
  },
  {
   "cell_type": "markdown",
   "metadata": {},
   "source": [
    "Model 4 (pred + size):"
   ]
  },
  {
   "cell_type": "code",
   "execution_count": 7,
   "metadata": {},
   "outputs": [
    {
     "name": "stderr",
     "output_type": "stream",
     "text": [
      "Auto-assigning NUTS sampler...\n",
      "Initializing NUTS using jitter+adapt_diag...\n",
      "Multiprocess sampling (4 chains in 4 jobs)\n",
      "NUTS: [s, a, bp, sigma, a_bar]\n",
      "Sampling 4 chains, 0 divergences: 100%|██████████| 6000/6000 [00:13<00:00, 457.91draws/s]\n",
      "The number of effective samples is smaller than 25% for some parameters.\n",
      "100%|██████████| 2000/2000 [00:40<00:00, 49.33it/s]\n"
     ]
    }
   ],
   "source": [
    "with pm.Model() as model_14:\n",
    "    # Data is defined outside of the model\n",
    "    \n",
    "    # Priors\n",
    "    a_bar = pm.Normal('a_bar', mu=0, sd=1.5)\n",
    "    sigma = pm.Exponential('sigma', lam=1)\n",
    "    bp = pm.Normal('bp', mu=-0.5, sd=1)\n",
    "    a = pm.Normal('a', mu=a_bar, sd=sigma, shape=len(d['tank'].unique()))\n",
    "    s = pm.Normal('s', mu=0, sd=0.5, shape=len(d['size'].unique()))\n",
    "    \n",
    "    # Logistic regression\n",
    "    p = pm.math.invlogit(a[tank]+bp*pred+s[size])\n",
    "    surv_hat = pm.Binomial('surv_hat', p=p, n=n, observed=S)\n",
    "\n",
    "    # Prior sampling, trace definition and posterior sampling\n",
    "    prior = pm.sample_prior_predictive()\n",
    "    posterior_14 = pm.sample(tune=1000)\n",
    "    posterior_pred_14 = pm.sample_posterior_predictive(posterior_14)"
   ]
  },
  {
   "cell_type": "markdown",
   "metadata": {},
   "source": [
    "Model 5 (pred + size + interaction):"
   ]
  },
  {
   "cell_type": "code",
   "execution_count": 16,
   "metadata": {},
   "outputs": [
    {
     "name": "stderr",
     "output_type": "stream",
     "text": [
      "Auto-assigning NUTS sampler...\n",
      "Initializing NUTS using jitter+adapt_diag...\n",
      "Multiprocess sampling (4 chains in 4 jobs)\n",
      "NUTS: [s, a, bp, sigma, a_bar]\n",
      "Sampling 4 chains, 0 divergences: 100%|██████████| 6000/6000 [00:12<00:00, 464.70draws/s]\n",
      "The estimated number of effective samples is smaller than 200 for some parameters.\n"
     ]
    }
   ],
   "source": [
    "with pm.Model() as model_15:\n",
    "    # Data is defined outside of the model\n",
    "    \n",
    "    # Priors\n",
    "    a_bar = pm.Normal('a_bar', mu=0, sd=1.5)\n",
    "    sigma = pm.Exponential('sigma', lam=1)\n",
    "    bp = pm.Normal('bp', mu=-0.5, sd=1, shape=len(d['size'].unique()))\n",
    "    a = pm.Normal('a', mu=a_bar, sd=sigma, shape=len(d['tank'].unique()))\n",
    "    s = pm.Normal('s', mu=0, sd=0.5, shape=len(d['size'].unique()))\n",
    "    \n",
    "    # Logistic regression\n",
    "    p = pm.math.invlogit(a[tank] + bp[size]*pred + s[size])\n",
    "    surv_hat = pm.Binomial('surv_hat', p=p, n=n, observed=S)\n",
    "\n",
    "    # Prior sampling, trace definition and posterior sampling\n",
    "    prior = pm.sample_prior_predictive()\n",
    "    posterior_15 = pm.sample(tune=1000)\n",
    "    #posterior_pred_15 = pm.sample_posterior_predictive(posterior_15)"
   ]
  },
  {
   "cell_type": "markdown",
   "metadata": {},
   "source": [
    "I coded the interaction model (`model_15`) using a non-centered parameterization. The interaction itself is done by creating a `bp` parameter for each size value. In this way, the effect of `pred` depends upon `size`. First let's consider the WAIC scores:"
   ]
  },
  {
   "cell_type": "code",
   "execution_count": 17,
   "metadata": {},
   "outputs": [],
   "source": [
    "model_11.name = 'model_11'\n",
    "model_12.name = 'model_12'\n",
    "model_13.name = 'model_13'\n",
    "model_14.name = 'model_14'\n",
    "model_15.name = 'model_15'"
   ]
  },
  {
   "cell_type": "code",
   "execution_count": 63,
   "metadata": {},
   "outputs": [
    {
     "data": {
      "text/html": [
       "<div>\n",
       "<style scoped>\n",
       "    .dataframe tbody tr th:only-of-type {\n",
       "        vertical-align: middle;\n",
       "    }\n",
       "\n",
       "    .dataframe tbody tr th {\n",
       "        vertical-align: top;\n",
       "    }\n",
       "\n",
       "    .dataframe thead th {\n",
       "        text-align: right;\n",
       "    }\n",
       "</style>\n",
       "<table border=\"1\" class=\"dataframe\">\n",
       "  <thead>\n",
       "    <tr style=\"text-align: right;\">\n",
       "      <th></th>\n",
       "      <th>WAIC</th>\n",
       "      <th>pWAIC</th>\n",
       "      <th>dWAIC</th>\n",
       "      <th>weight</th>\n",
       "      <th>SE</th>\n",
       "      <th>dSE</th>\n",
       "      <th>var_warn</th>\n",
       "    </tr>\n",
       "  </thead>\n",
       "  <tbody>\n",
       "    <tr>\n",
       "      <th>model_12</th>\n",
       "      <td>199.03</td>\n",
       "      <td>19.29</td>\n",
       "      <td>0</td>\n",
       "      <td>0.21</td>\n",
       "      <td>9.06</td>\n",
       "      <td>0</td>\n",
       "      <td>1</td>\n",
       "    </tr>\n",
       "    <tr>\n",
       "      <th>model_15</th>\n",
       "      <td>199.16</td>\n",
       "      <td>18.82</td>\n",
       "      <td>0.13</td>\n",
       "      <td>0.39</td>\n",
       "      <td>9.06</td>\n",
       "      <td>3.11</td>\n",
       "      <td>1</td>\n",
       "    </tr>\n",
       "    <tr>\n",
       "      <th>model_11</th>\n",
       "      <td>199.27</td>\n",
       "      <td>20.55</td>\n",
       "      <td>0.25</td>\n",
       "      <td>0.39</td>\n",
       "      <td>7.28</td>\n",
       "      <td>5.94</td>\n",
       "      <td>1</td>\n",
       "    </tr>\n",
       "    <tr>\n",
       "      <th>model_13</th>\n",
       "      <td>200.01</td>\n",
       "      <td>20.86</td>\n",
       "      <td>0.98</td>\n",
       "      <td>0</td>\n",
       "      <td>7.11</td>\n",
       "      <td>5.63</td>\n",
       "      <td>1</td>\n",
       "    </tr>\n",
       "    <tr>\n",
       "      <th>model_14</th>\n",
       "      <td>200.46</td>\n",
       "      <td>19.23</td>\n",
       "      <td>1.44</td>\n",
       "      <td>0</td>\n",
       "      <td>8.78</td>\n",
       "      <td>1.85</td>\n",
       "      <td>1</td>\n",
       "    </tr>\n",
       "  </tbody>\n",
       "</table>\n",
       "</div>"
      ],
      "text/plain": [
       "            WAIC  pWAIC dWAIC weight    SE   dSE var_warn\n",
       "model_12  199.03  19.29     0   0.21  9.06     0        1\n",
       "model_15  199.16  18.82  0.13   0.39  9.06  3.11        1\n",
       "model_11  199.27  20.55  0.25   0.39  7.28  5.94        1\n",
       "model_13  200.01  20.86  0.98      0  7.11  5.63        1\n",
       "model_14  200.46  19.23  1.44      0  8.78  1.85        1"
      ]
     },
     "execution_count": 63,
     "metadata": {},
     "output_type": "execute_result"
    }
   ],
   "source": [
    "pm.compare({model_11: posterior_11,\n",
    "            model_12: posterior_12,\n",
    "            model_13: posterior_13,\n",
    "            model_14: posterior_14,\n",
    "            model_15: posterior_15})"
   ]
  },
  {
   "cell_type": "markdown",
   "metadata": {},
   "source": [
    "These models are really very similar in expected out-of-sample accuracy. The tank variation is huge. But take a look at the posterior distributions for predation and size. You'll see that predation does seem to matter, as you'd expect. Size matters a lot less. So while predation doesn't explain much of the total variation, there is plenty of evidence that it is a real effect. Remember: We don't select a model using WAIC\n",
    "(or LOO). A predictor can make little difference in total accuracy but still be a real causal effect.\n",
    "\n",
    "Let's look at all the sigma posterior distributions:"
   ]
  },
  {
   "cell_type": "code",
   "execution_count": 19,
   "metadata": {},
   "outputs": [
    {
     "data": {
      "image/png": "[encoded data removed]",
      "text/plain": [
       "<Figure size 648x216 with 1 Axes>"
      ]
     },
     "metadata": {
      "needs_background": "light"
     },
     "output_type": "display_data"
    }
   ],
   "source": [
    "az.plot_forest({\n",
    "    'model_11': posterior_11['sigma'],\n",
    "    'model_12': posterior_12['sigma'],\n",
    "    'model_13': posterior_13['sigma'],\n",
    "    'model_14': posterior_14['sigma'],\n",
    "    'model_15': posterior_15['sigma']\n",
    "},figsize=(9, 3));"
   ]
  },
  {
   "cell_type": "markdown",
   "metadata": {},
   "source": [
    "The two models that omit predation, `model_11` and `model_13`, have larger values of `sigma`. This is because predation explains some of the variation among tanks. So when you add it to the model, the variation in the tank intercepts gets smaller."
   ]
  },
  {
   "cell_type": "markdown",
   "metadata": {},
   "source": [
    "## Exercise 2"
   ]
  },
  {
   "cell_type": "markdown",
   "metadata": {},
   "source": [
    "> In 1980, a typical Bengali woman could have 5 or more children in her lifetime. By the year 2000, a typical Bengali woman had only 2 or 3. You're going to look at a historical set of data, when contraception was widely available but many families chose not to use it. These data reside in data `bangladesh` and come from the 1988 Bangladesh Fertility Survey. Each row is one of 1934 women. There are six variables, but you can focus on two of them for this practice problem:\n",
    "\n",
    "> 1. district: ID number of administrative district each woman resided in\n",
    "2. use.contraception: An indicator (0/1) of whether the woman was using contraception"
   ]
  },
  {
   "cell_type": "code",
   "execution_count": 21,
   "metadata": {},
   "outputs": [
    {
     "data": {
      "text/html": [
       "<div>\n",
       "<style scoped>\n",
       "    .dataframe tbody tr th:only-of-type {\n",
       "        vertical-align: middle;\n",
       "    }\n",
       "\n",
       "    .dataframe tbody tr th {\n",
       "        vertical-align: top;\n",
       "    }\n",
       "\n",
       "    .dataframe thead th {\n",
       "        text-align: right;\n",
       "    }\n",
       "</style>\n",
       "<table border=\"1\" class=\"dataframe\">\n",
       "  <thead>\n",
       "    <tr style=\"text-align: right;\">\n",
       "      <th></th>\n",
       "      <th>woman</th>\n",
       "      <th>district</th>\n",
       "      <th>use.contraception</th>\n",
       "      <th>living.children</th>\n",
       "      <th>age.centered</th>\n",
       "      <th>urban</th>\n",
       "      <th>did</th>\n",
       "    </tr>\n",
       "  </thead>\n",
       "  <tbody>\n",
       "    <tr>\n",
       "      <th>0</th>\n",
       "      <td>1</td>\n",
       "      <td>1</td>\n",
       "      <td>0</td>\n",
       "      <td>4</td>\n",
       "      <td>18.4400</td>\n",
       "      <td>1</td>\n",
       "      <td>0</td>\n",
       "    </tr>\n",
       "    <tr>\n",
       "      <th>1</th>\n",
       "      <td>2</td>\n",
       "      <td>1</td>\n",
       "      <td>0</td>\n",
       "      <td>1</td>\n",
       "      <td>-5.5599</td>\n",
       "      <td>1</td>\n",
       "      <td>0</td>\n",
       "    </tr>\n",
       "    <tr>\n",
       "      <th>2</th>\n",
       "      <td>3</td>\n",
       "      <td>1</td>\n",
       "      <td>0</td>\n",
       "      <td>3</td>\n",
       "      <td>1.4400</td>\n",
       "      <td>1</td>\n",
       "      <td>0</td>\n",
       "    </tr>\n",
       "    <tr>\n",
       "      <th>3</th>\n",
       "      <td>4</td>\n",
       "      <td>1</td>\n",
       "      <td>0</td>\n",
       "      <td>4</td>\n",
       "      <td>8.4400</td>\n",
       "      <td>1</td>\n",
       "      <td>0</td>\n",
       "    </tr>\n",
       "    <tr>\n",
       "      <th>4</th>\n",
       "      <td>5</td>\n",
       "      <td>1</td>\n",
       "      <td>0</td>\n",
       "      <td>1</td>\n",
       "      <td>-13.5590</td>\n",
       "      <td>1</td>\n",
       "      <td>0</td>\n",
       "    </tr>\n",
       "  </tbody>\n",
       "</table>\n",
       "</div>"
      ],
      "text/plain": [
       "   woman  district  use.contraception  living.children  age.centered  urban  \\\n",
       "0      1         1                  0                4       18.4400      1   \n",
       "1      2         1                  0                1       -5.5599      1   \n",
       "2      3         1                  0                3        1.4400      1   \n",
       "3      4         1                  0                4        8.4400      1   \n",
       "4      5         1                  0                1      -13.5590      1   \n",
       "\n",
       "   did  \n",
       "0    0  \n",
       "1    0  \n",
       "2    0  \n",
       "3    0  \n",
       "4    0  "
      ]
     },
     "execution_count": 21,
     "metadata": {},
     "output_type": "execute_result"
    }
   ],
   "source": [
    "d = pd.read_csv('../../data/bangladesh.csv', header=0, sep=';')\n",
    "d['did'] = pd.factorize(d['district'])[0]\n",
    "d.head()"
   ]
  },
  {
   "cell_type": "code",
   "execution_count": 22,
   "metadata": {},
   "outputs": [],
   "source": [
    "did = theano.shared(d['did'].values)\n",
    "C = theano.shared(d['use.contraception'].values)"
   ]
  },
  {
   "cell_type": "markdown",
   "metadata": {},
   "source": [
    "Now for the ordinary fixed effect model:"
   ]
  },
  {
   "cell_type": "code",
   "execution_count": 26,
   "metadata": {},
   "outputs": [
    {
     "name": "stderr",
     "output_type": "stream",
     "text": [
      "Auto-assigning NUTS sampler...\n",
      "Initializing NUTS using jitter+adapt_diag...\n",
      "Multiprocess sampling (4 chains in 4 jobs)\n",
      "NUTS: [a]\n",
      "Sampling 4 chains, 0 divergences: 100%|██████████| 6000/6000 [00:13<00:00, 439.42draws/s]\n",
      "100%|██████████| 2000/2000 [00:39<00:00, 50.77it/s]\n"
     ]
    }
   ],
   "source": [
    "with pm.Model() as model_21:\n",
    "    # Data is defined outside of the model\n",
    "    \n",
    "    # Priors\n",
    "    a = pm.Normal('a', mu=0, sd=1.5, shape=len(d['did'].unique()))\n",
    "    \n",
    "    # Logistic regression\n",
    "    p = pm.math.invlogit(a[did])\n",
    "    conc_hat = pm.Bernoulli('conc_hat', p=p, observed=C)\n",
    "\n",
    "    # Prior sampling, trace definition and posterior sampling\n",
    "    prior = pm.sample_prior_predictive()\n",
    "    posterior_21 = pm.sample(tune=1000)\n",
    "    posterior_pred_21 = pm.sample_posterior_predictive(posterior_21)"
   ]
  },
  {
   "cell_type": "code",
   "execution_count": 27,
   "metadata": {},
   "outputs": [
    {
     "name": "stderr",
     "output_type": "stream",
     "text": [
      "Auto-assigning NUTS sampler...\n",
      "Initializing NUTS using jitter+adapt_diag...\n",
      "Multiprocess sampling (4 chains in 4 jobs)\n",
      "NUTS: [a, sigma, a_bar]\n",
      "Sampling 4 chains, 0 divergences: 100%|██████████| 6000/6000 [00:16<00:00, 358.59draws/s]\n",
      "100%|██████████| 2000/2000 [00:39<00:00, 51.12it/s]\n"
     ]
    }
   ],
   "source": [
    "with pm.Model() as model_22:\n",
    "    # Data is defined outside of the model\n",
    "    \n",
    "    # Priors\n",
    "    a_bar = pm.Normal('a_bar', mu=0, sd=1.5)\n",
    "    sigma = pm.Exponential('sigma', lam=1)\n",
    "    a = pm.Normal('a', mu=a_bar, sd=sigma, shape=len(d['district'].unique()))\n",
    "    \n",
    "    # Logistic regression\n",
    "    p = pm.math.invlogit(a[did])\n",
    "    conc_hat = pm.Bernoulli('conc_hat', p=p, observed=C)\n",
    "\n",
    "    # Prior sampling, trace definition and posterior sampling\n",
    "    prior = pm.sample_prior_predictive()\n",
    "    posterior_22 = pm.sample(tune=1000)\n",
    "    posterior_pred_22 = pm.sample_posterior_predictive(posterior_22)"
   ]
  },
  {
   "cell_type": "markdown",
   "metadata": {},
   "source": [
    "Now let's extract the samples, compute posterior mean probabilities in each district, and plot it all:"
   ]
  },
  {
   "cell_type": "code",
   "execution_count": 28,
   "metadata": {},
   "outputs": [],
   "source": [
    "aux = pd.concat([pd.DataFrame(logistic(posterior_21['a'].mean(axis=0))).assign(model='model_21'),\n",
    "           pd.DataFrame(logistic(posterior_22['a'].mean(axis=0))).assign(model='model_22')]).rename(columns={0:'prob'}).reset_index()"
   ]
  },
  {
   "cell_type": "code",
   "execution_count": 52,
   "metadata": {},
   "outputs": [
    {
     "data": {
      "text/plain": [
       "0.368885625151105"
      ]
     },
     "execution_count": 52,
     "metadata": {},
     "output_type": "execute_result"
    }
   ],
   "source": [
    "logistic(posterior_22['a_bar'].mean()) # use it for the red line in the next plot"
   ]
  },
  {
   "cell_type": "code",
   "execution_count": 58,
   "metadata": {},
   "outputs": [
    {
     "data": {
      "application/vnd.vegalite.v3+json": {
       "$schema": "https://vega.github.io/schema/vega-lite/v3.3.0.json",
       "config": {
        "axis": {
         "grid": false
        },
        "mark": {
         "tooltip": null
        },
        "view": {
         "height": 300,
         "width": 400
        }
       },
       "data": {
        "name": "data-b8684ee45a0d9bc1c3e88e27cad85aeb"
       },
       "datasets": {
        "data-b8684ee45a0d9bc1c3e88e27cad85aeb": [
         {
          "index": 0,
          "model": "model_21",
          "prob": 0.25864378267842925
         },
         {
          "index": 1,
          "model": "model_21",
          "prob": 0.35683743741143936
         },
         {
          "index": 2,
          "model": "model_21",
          "prob": 0.7739208362108878
         },
         {
          "index": 3,
          "model": "model_21",
          "prob": 0.5000668794934766
         },
         {
          "index": 4,
          "model": "model_21",
          "prob": 0.3624570036732479
         },
         {
          "index": 5,
          "model": "model_21",
          "prob": 0.29488682400462746
         },
         {
          "index": 6,
          "model": "model_21",
          "prob": 0.2892951442078581
         },
         {
          "index": 7,
          "model": "model_21",
          "prob": 0.38124285965659777
         },
         {
          "index": 8,
          "model": "model_21",
          "prob": 0.3113454946738166
         },
         {
          "index": 9,
          "model": "model_21",
          "prob": 0.12312824470451215
         },
         {
          "index": 10,
          "model": "model_21",
          "prob": 0.04884276688869283
         },
         {
          "index": 11,
          "model": "model_21",
          "prob": 0.3481089303279038
         },
         {
          "index": 12,
          "model": "model_21",
          "prob": 0.4185556414410042
         },
         {
          "index": 13,
          "model": "model_21",
          "prob": 0.6261598985781301
         },
         {
          "index": 14,
          "model": "model_21",
          "prob": 0.3704758741754359
         },
         {
          "index": 15,
          "model": "model_21",
          "prob": 0.5520827229375553
         },
         {
          "index": 16,
          "model": "model_21",
          "prob": 0.3019309627311374
         },
         {
          "index": 17,
          "model": "model_21",
          "prob": 0.34264436644301777
         },
         {
          "index": 18,
          "model": "model_21",
          "prob": 0.38543723082724884
         },
         {
          "index": 19,
          "model": "model_21",
          "prob": 0.40671283703516703
         },
         {
          "index": 20,
          "model": "model_21",
          "prob": 0.39295884868054554
         },
         {
          "index": 21,
          "model": "model_21",
          "prob": 0.21738348890253584
         },
         {
          "index": 22,
          "model": "model_21",
          "prob": 0.2837562173896951
         },
         {
          "index": 23,
          "model": "model_21",
          "prob": 0.11846301078652911
         },
         {
          "index": 24,
          "model": "model_21",
          "prob": 0.449229606350388
         },
         {
          "index": 25,
          "model": "model_21",
          "prob": 0.3954919813007753
         },
         {
          "index": 26,
          "model": "model_21",
          "prob": 0.19053266921025064
         },
         {
          "index": 27,
          "model": "model_21",
          "prob": 0.25231869820697156
         },
         {
          "index": 28,
          "model": "model_21",
          "prob": 0.2890153414280961
         },
         {
          "index": 29,
          "model": "model_21",
          "prob": 0.49005768724279786
         },
         {
          "index": 30,
          "model": "model_21",
          "prob": 0.457018026305462
         },
         {
          "index": 31,
          "model": "model_21",
          "prob": 0.2202967689719325
         },
         {
          "index": 32,
          "model": "model_21",
          "prob": 0.43490042220728786
         },
         {
          "index": 33,
          "model": "model_21",
          "prob": 0.6536942990841739
         },
         {
          "index": 34,
          "model": "model_21",
          "prob": 0.49924288529098776
         },
         {
          "index": 35,
          "model": "model_21",
          "prob": 0.35893476130656254
         },
         {
          "index": 36,
          "model": "model_21",
          "prob": 0.5368528311883028
         },
         {
          "index": 37,
          "model": "model_21",
          "prob": 0.3001855704061429
         },
         {
          "index": 38,
          "model": "model_21",
          "prob": 0.5001246348526348
         },
         {
          "index": 39,
          "model": "model_21",
          "prob": 0.46426666318020415
         },
         {
          "index": 40,
          "model": "model_21",
          "prob": 0.5015098753926894
         },
         {
          "index": 41,
          "model": "model_21",
          "prob": 0.5358419208482513
         },
         {
          "index": 42,
          "model": "model_21",
          "prob": 0.5334930987868314
         },
         {
          "index": 43,
          "model": "model_21",
          "prob": 0.23403886070173746
         },
         {
          "index": 44,
          "model": "model_21",
          "prob": 0.33854285035402537
         },
         {
          "index": 45,
          "model": "model_21",
          "prob": 0.522422522673622
         },
         {
          "index": 46,
          "model": "model_21",
          "prob": 0.468479222161658
         },
         {
          "index": 47,
          "model": "model_21",
          "prob": 0.523594260603179
         },
         {
          "index": 48,
          "model": "model_21",
          "prob": 0.14790653161083847
         },
         {
          "index": 49,
          "model": "model_21",
          "prob": 0.47333607497231406
         },
         {
          "index": 50,
          "model": "model_21",
          "prob": 0.4602712043259469
         },
         {
          "index": 51,
          "model": "model_21",
          "prob": 0.44447805395969653
         },
         {
          "index": 52,
          "model": "model_21",
          "prob": 0.4274018716900531
         },
         {
          "index": 53,
          "model": "model_21",
          "prob": 0.2266333956296941
         },
         {
          "index": 54,
          "model": "model_21",
          "prob": 0.5762558110613398
         },
         {
          "index": 55,
          "model": "model_21",
          "prob": 0.19693005634829175
         },
         {
          "index": 56,
          "model": "model_21",
          "prob": 0.45634313155501144
         },
         {
          "index": 57,
          "model": "model_21",
          "prob": 0.15319259955400125
         },
         {
          "index": 58,
          "model": "model_21",
          "prob": 0.22745419072847387
         },
         {
          "index": 59,
          "model": "model_21",
          "prob": 0.22081583719838987
         },
         {
          "index": 0,
          "model": "model_22",
          "prob": 0.2699925331002028
         },
         {
          "index": 1,
          "model": "model_22",
          "prob": 0.35613127075914836
         },
         {
          "index": 2,
          "model": "model_22",
          "prob": 0.44099678081982124
         },
         {
          "index": 3,
          "model": "model_22",
          "prob": 0.45318296609938225
         },
         {
          "index": 4,
          "model": "model_22",
          "prob": 0.35944714511930015
         },
         {
          "index": 5,
          "model": "model_22",
          "prob": 0.3077300687079332
         },
         {
          "index": 6,
          "model": "model_22",
          "prob": 0.31925608633064856
         },
         {
          "index": 7,
          "model": "model_22",
          "prob": 0.37391146907424055
         },
         {
          "index": 8,
          "model": "model_22",
          "prob": 0.32832347682842916
         },
         {
          "index": 9,
          "model": "model_22",
          "prob": 0.24446930742820408
         },
         {
          "index": 10,
          "model": "model_22",
          "prob": 0.1773902581959146
         },
         {
          "index": 11,
          "model": "model_22",
          "prob": 0.3534128333910679
         },
         {
          "index": 12,
          "model": "model_22",
          "prob": 0.39642592017880873
         },
         {
          "index": 13,
          "model": "model_22",
          "prob": 0.5952866058960441
         },
         {
          "index": 14,
          "model": "model_22",
          "prob": 0.3615155925386325
         },
         {
          "index": 15,
          "model": "model_22",
          "prob": 0.4676495495594365
         },
         {
          "index": 16,
          "model": "model_22",
          "prob": 0.32232616171581924
         },
         {
          "index": 17,
          "model": "model_22",
          "prob": 0.3483129905301018
         },
         {
          "index": 18,
          "model": "model_22",
          "prob": 0.3766447132368296
         },
         {
          "index": 19,
          "model": "model_22",
          "prob": 0.3806682474589013
         },
         {
          "index": 20,
          "model": "model_22",
          "prob": 0.3776133693478853
         },
         {
          "index": 21,
          "model": "model_22",
          "prob": 0.2777294424506246
         },
         {
          "index": 22,
          "model": "model_22",
          "prob": 0.3222149934268259
         },
         {
          "index": 23,
          "model": "model_22",
          "prob": 0.2389961348609691
         },
         {
          "index": 24,
          "model": "model_22",
          "prob": 0.4327271467018901
         },
         {
          "index": 25,
          "model": "model_22",
          "prob": 0.376443370423841
         },
         {
          "index": 26,
          "model": "model_22",
          "prob": 0.23579704200497195
         },
         {
          "index": 27,
          "model": "model_22",
          "prob": 0.2770055382030273
         },
         {
          "index": 28,
          "model": "model_22",
          "prob": 0.3099004430703999
         },
         {
          "index": 29,
          "model": "model_22",
          "prob": 0.4653757689372326
         },
         {
          "index": 30,
          "model": "model_22",
          "prob": 0.4244096948064017
         },
         {
          "index": 31,
          "model": "model_22",
          "prob": 0.2750117727931946
         },
         {
          "index": 32,
          "model": "model_22",
          "prob": 0.39414204835185507
         },
         {
          "index": 33,
          "model": "model_22",
          "prob": 0.5678638756492297
         },
         {
          "index": 34,
          "model": "model_22",
          "prob": 0.4671017612673286
         },
         {
          "index": 35,
          "model": "model_22",
          "prob": 0.35823701312228734
         },
         {
          "index": 36,
          "model": "model_22",
          "prob": 0.4402736409767603
         },
         {
          "index": 37,
          "model": "model_22",
          "prob": 0.32773067744708384
         },
         {
          "index": 38,
          "model": "model_22",
          "prob": 0.44738823863725713
         },
         {
          "index": 39,
          "model": "model_22",
          "prob": 0.4356199820609989
         },
         {
          "index": 40,
          "model": "model_22",
          "prob": 0.4481999285295386
         },
         {
          "index": 41,
          "model": "model_22",
          "prob": 0.44103997705451037
         },
         {
          "index": 42,
          "model": "model_22",
          "prob": 0.49017573762812
         },
         {
          "index": 43,
          "model": "model_22",
          "prob": 0.27906663861934583
         },
         {
          "index": 44,
          "model": "model_22",
          "prob": 0.3418430896547456
         },
         {
          "index": 45,
          "model": "model_22",
          "prob": 0.4973383679061075
         },
         {
          "index": 46,
          "model": "model_22",
          "prob": 0.41514746347254167
         },
         {
          "index": 47,
          "model": "model_22",
          "prob": 0.4807323419496616
         },
         {
          "index": 48,
          "model": "model_22",
          "prob": 0.2981230728197265
         },
         {
          "index": 49,
          "model": "model_22",
          "prob": 0.425586019493837
         },
         {
          "index": 50,
          "model": "model_22",
          "prob": 0.4299234516529067
         },
         {
          "index": 51,
          "model": "model_22",
          "prob": 0.426928512319858
         },
         {
          "index": 52,
          "model": "model_22",
          "prob": 0.39613394375457156
         },
         {
          "index": 53,
          "model": "model_22",
          "prob": 0.3129029927223054
         },
         {
          "index": 54,
          "model": "model_22",
          "prob": 0.5202915541834875
         },
         {
          "index": 55,
          "model": "model_22",
          "prob": 0.25534070988193464
         },
         {
          "index": 56,
          "model": "model_22",
          "prob": 0.426259979930949
         },
         {
          "index": 57,
          "model": "model_22",
          "prob": 0.2705307271159083
         },
         {
          "index": 58,
          "model": "model_22",
          "prob": 0.27012442066407455
         },
         {
          "index": 59,
          "model": "model_22",
          "prob": 0.2622354214971637
         }
        ]
       },
       "layer": [
        {
         "encoding": {
          "color": {
           "field": "model",
           "type": "nominal"
          },
          "x": {
           "field": "index",
           "title": "District",
           "type": "quantitative"
          },
          "y": {
           "field": "prob",
           "scale": {
            "domain": [
             0,
             1
            ]
           },
           "title": "prob use contraception",
           "type": "quantitative"
          }
         },
         "mark": {
          "size": 50,
          "type": "circle"
         }
        },
        {
         "encoding": {
          "size": {
           "value": 1
          },
          "y": {
           "field": "a",
           "type": "quantitative"
          }
         },
         "mark": {
          "color": "red",
          "type": "rule"
         }
        }
       ],
       "transform": [
        {
         "as": "a",
         "calculate": "0.38"
        }
       ],
       "width": 800
      },
      "image/png": "[encoded data removed]",
      "text/plain": [
       "<VegaLite 3 object>\n",
       "\n",
       "If you see this message, it means the renderer has not been properly enabled\n",
       "for the frontend that you are using. For more information, see\n",
       "https://altair-viz.github.io/user_guide/troubleshooting.html\n"
      ]
     },
     "execution_count": 58,
     "metadata": {},
     "output_type": "execute_result"
    }
   ],
   "source": [
    "plot = alt.Chart(aux).mark_circle(size = 50).encode(\n",
    "            alt.X('index', title='District'),\n",
    "            alt.Y('prob', title='prob use contraception',scale=alt.Scale(domain=(0, 1))),\n",
    "            color = 'model')\n",
    "\n",
    "rule = alt.Chart(aux).mark_rule(color='red',)\\\n",
    "    .encode(\n",
    "    y='a:Q',\n",
    "    size=alt.value(1)\n",
    "           )\n",
    "\n",
    "(plot+rule).transform_calculate(a=\"0.38\").properties(width=800).configure_axis(grid=False)"
   ]
  },
  {
   "cell_type": "markdown",
   "metadata": {},
   "source": [
    "The blue points are the fixed estimations. The _orange ones_ points are the varying effects. As you'd expect, they are shrunk towards the mean (the _red_ line). Some are shrunk more than others. The third district from the left shrunk a lot. Let's look at the sample size in each district:"
   ]
  },
  {
   "cell_type": "code",
   "execution_count": 59,
   "metadata": {},
   "outputs": [
    {
     "data": {
      "text/html": [
       "<div>\n",
       "<style scoped>\n",
       "    .dataframe tbody tr th:only-of-type {\n",
       "        vertical-align: middle;\n",
       "    }\n",
       "\n",
       "    .dataframe tbody tr th {\n",
       "        vertical-align: top;\n",
       "    }\n",
       "\n",
       "    .dataframe thead th {\n",
       "        text-align: right;\n",
       "    }\n",
       "</style>\n",
       "<table border=\"1\" class=\"dataframe\">\n",
       "  <thead>\n",
       "    <tr style=\"text-align: right;\">\n",
       "      <th></th>\n",
       "      <th>1</th>\n",
       "      <th>2</th>\n",
       "      <th>3</th>\n",
       "      <th>4</th>\n",
       "      <th>5</th>\n",
       "      <th>6</th>\n",
       "      <th>7</th>\n",
       "      <th>8</th>\n",
       "      <th>9</th>\n",
       "      <th>10</th>\n",
       "      <th>...</th>\n",
       "      <th>51</th>\n",
       "      <th>52</th>\n",
       "      <th>53</th>\n",
       "      <th>55</th>\n",
       "      <th>56</th>\n",
       "      <th>57</th>\n",
       "      <th>58</th>\n",
       "      <th>59</th>\n",
       "      <th>60</th>\n",
       "      <th>61</th>\n",
       "    </tr>\n",
       "  </thead>\n",
       "  <tbody>\n",
       "    <tr>\n",
       "      <th>district</th>\n",
       "      <td>117</td>\n",
       "      <td>20</td>\n",
       "      <td>2</td>\n",
       "      <td>30</td>\n",
       "      <td>39</td>\n",
       "      <td>65</td>\n",
       "      <td>18</td>\n",
       "      <td>37</td>\n",
       "      <td>23</td>\n",
       "      <td>13</td>\n",
       "      <td>...</td>\n",
       "      <td>37</td>\n",
       "      <td>61</td>\n",
       "      <td>19</td>\n",
       "      <td>6</td>\n",
       "      <td>45</td>\n",
       "      <td>27</td>\n",
       "      <td>33</td>\n",
       "      <td>10</td>\n",
       "      <td>32</td>\n",
       "      <td>42</td>\n",
       "    </tr>\n",
       "  </tbody>\n",
       "</table>\n",
       "<p>1 rows × 60 columns</p>\n",
       "</div>"
      ],
      "text/plain": [
       "           1   2   3   4   5   6   7   8   9   10 ...  51  52  53  55  56  57  \\\n",
       "district  117  20   2  30  39  65  18  37  23  13 ...  37  61  19   6  45  27   \n",
       "\n",
       "          58  59  60  61  \n",
       "district  33  10  32  42  \n",
       "\n",
       "[1 rows x 60 columns]"
      ]
     },
     "execution_count": 59,
     "metadata": {},
     "output_type": "execute_result"
    }
   ],
   "source": [
    "pd.DataFrame(d.district.value_counts().sort_index()).T"
   ]
  },
  {
   "cell_type": "markdown",
   "metadata": {},
   "source": [
    "District 3 has only 2 women sampled. So it shrinks a lot. There are couple of other districts, like 49 and 54, that also have very few women sampled. But their fixed estimates aren't as extreme, so they don't shrink as much as district 3 does.\n",
    "\n",
    "All of this is explained by partial pooling, of course."
   ]
  },
  {
   "cell_type": "markdown",
   "metadata": {},
   "source": [
    "## Exercise 3"
   ]
  },
  {
   "cell_type": "markdown",
   "metadata": {},
   "source": [
    "Return to the Trolley data, (`Trolley`), from Chapter 12. Define and fit a varying intercepts model for these data. By this I mean to add an intercept parameter for the individual to the linear model. Cluster the varying intercepts on individual participants, as indicated by the unique values in the id variable. Include action, intention, and contact as before. Compare the varying intercepts model and a model that ignores individuals, using both WAIC/LOO and posterior predictions. What is the impact of individual variation in these data?"
   ]
  },
  {
   "cell_type": "code",
   "execution_count": 60,
   "metadata": {},
   "outputs": [
    {
     "data": {
      "text/html": [
       "<div>\n",
       "<style scoped>\n",
       "    .dataframe tbody tr th:only-of-type {\n",
       "        vertical-align: middle;\n",
       "    }\n",
       "\n",
       "    .dataframe tbody tr th {\n",
       "        vertical-align: top;\n",
       "    }\n",
       "\n",
       "    .dataframe thead th {\n",
       "        text-align: right;\n",
       "    }\n",
       "</style>\n",
       "<table border=\"1\" class=\"dataframe\">\n",
       "  <thead>\n",
       "    <tr style=\"text-align: right;\">\n",
       "      <th></th>\n",
       "      <th>case</th>\n",
       "      <th>response</th>\n",
       "      <th>order</th>\n",
       "      <th>id</th>\n",
       "      <th>age</th>\n",
       "      <th>male</th>\n",
       "      <th>edu</th>\n",
       "      <th>action</th>\n",
       "      <th>intention</th>\n",
       "      <th>contact</th>\n",
       "      <th>story</th>\n",
       "      <th>action2</th>\n",
       "      <th>edu_new</th>\n",
       "      <th>age_std</th>\n",
       "    </tr>\n",
       "  </thead>\n",
       "  <tbody>\n",
       "    <tr>\n",
       "      <th>0</th>\n",
       "      <td>cfaqu</td>\n",
       "      <td>3</td>\n",
       "      <td>2</td>\n",
       "      <td>0</td>\n",
       "      <td>14</td>\n",
       "      <td>0</td>\n",
       "      <td>Middle School</td>\n",
       "      <td>0</td>\n",
       "      <td>0</td>\n",
       "      <td>1</td>\n",
       "      <td>aqu</td>\n",
       "      <td>1</td>\n",
       "      <td>1</td>\n",
       "      <td>-1.650358</td>\n",
       "    </tr>\n",
       "    <tr>\n",
       "      <th>1</th>\n",
       "      <td>cfbur</td>\n",
       "      <td>2</td>\n",
       "      <td>31</td>\n",
       "      <td>0</td>\n",
       "      <td>14</td>\n",
       "      <td>0</td>\n",
       "      <td>Middle School</td>\n",
       "      <td>0</td>\n",
       "      <td>0</td>\n",
       "      <td>1</td>\n",
       "      <td>bur</td>\n",
       "      <td>1</td>\n",
       "      <td>1</td>\n",
       "      <td>-1.650358</td>\n",
       "    </tr>\n",
       "    <tr>\n",
       "      <th>2</th>\n",
       "      <td>cfrub</td>\n",
       "      <td>3</td>\n",
       "      <td>16</td>\n",
       "      <td>0</td>\n",
       "      <td>14</td>\n",
       "      <td>0</td>\n",
       "      <td>Middle School</td>\n",
       "      <td>0</td>\n",
       "      <td>0</td>\n",
       "      <td>1</td>\n",
       "      <td>rub</td>\n",
       "      <td>1</td>\n",
       "      <td>1</td>\n",
       "      <td>-1.650358</td>\n",
       "    </tr>\n",
       "    <tr>\n",
       "      <th>3</th>\n",
       "      <td>cibox</td>\n",
       "      <td>2</td>\n",
       "      <td>32</td>\n",
       "      <td>0</td>\n",
       "      <td>14</td>\n",
       "      <td>0</td>\n",
       "      <td>Middle School</td>\n",
       "      <td>0</td>\n",
       "      <td>1</td>\n",
       "      <td>1</td>\n",
       "      <td>box</td>\n",
       "      <td>1</td>\n",
       "      <td>1</td>\n",
       "      <td>-1.650358</td>\n",
       "    </tr>\n",
       "    <tr>\n",
       "      <th>4</th>\n",
       "      <td>cibur</td>\n",
       "      <td>2</td>\n",
       "      <td>4</td>\n",
       "      <td>0</td>\n",
       "      <td>14</td>\n",
       "      <td>0</td>\n",
       "      <td>Middle School</td>\n",
       "      <td>0</td>\n",
       "      <td>1</td>\n",
       "      <td>1</td>\n",
       "      <td>bur</td>\n",
       "      <td>1</td>\n",
       "      <td>1</td>\n",
       "      <td>-1.650358</td>\n",
       "    </tr>\n",
       "  </tbody>\n",
       "</table>\n",
       "</div>"
      ],
      "text/plain": [
       "    case  response  order  id  age  male            edu  action  intention  \\\n",
       "0  cfaqu         3      2   0   14     0  Middle School       0          0   \n",
       "1  cfbur         2     31   0   14     0  Middle School       0          0   \n",
       "2  cfrub         3     16   0   14     0  Middle School       0          0   \n",
       "3  cibox         2     32   0   14     0  Middle School       0          1   \n",
       "4  cibur         2      4   0   14     0  Middle School       0          1   \n",
       "\n",
       "   contact story  action2  edu_new   age_std  \n",
       "0        1   aqu        1        1 -1.650358  \n",
       "1        1   bur        1        1 -1.650358  \n",
       "2        1   rub        1        1 -1.650358  \n",
       "3        1   box        1        1 -1.650358  \n",
       "4        1   bur        1        1 -1.650358  "
      ]
     },
     "execution_count": 60,
     "metadata": {},
     "output_type": "execute_result"
    }
   ],
   "source": [
    "d = pd.read_csv('../../data/Trolley.csv', header=0, sep=';')\n",
    "\n",
    "elvl = d['edu'].unique()\n",
    "idx = [7 , 0 , 6 , 4 , 2 , 1, 3, 5]\n",
    "cat = pd.Categorical(d.edu, categories=list(elvl[idx]), ordered=True)\n",
    "d['edu_new'] = pd.factorize(cat, sort=True)[0].astype('Int64')\n",
    "\n",
    "#d['edu_norm'] = preprocessing.normalize(np.array(d['edu_new']).reshape(-1, 1), axis = 0, norm='max')\n",
    "d['age_std'] = preprocessing.scale(d['age'])\n",
    "d['id'] = pd.factorize(d['id'])[0]\n",
    "d['response'] = d['response']-1 # note this minus 1 to start the variable at zero, this way you don't have to put observed = response - 1 in the model\n",
    "d.head()"
   ]
  },
  {
   "cell_type": "code",
   "execution_count": 61,
   "metadata": {},
   "outputs": [],
   "source": [
    "action = theano.shared(d['action'].values)\n",
    "contact = theano.shared(d['contact'].values)\n",
    "intention = theano.shared(d['intention'].values)\n",
    "id = theano.shared(d['id'].values)\n",
    "response = theano.shared(d['response'].values)"
   ]
  },
  {
   "cell_type": "markdown",
   "metadata": {},
   "source": [
    "First, let's load the data and re-run the old model from Chapter 12:"
   ]
  },
  {
   "cell_type": "code",
   "execution_count": 63,
   "metadata": {},
   "outputs": [
    {
     "name": "stderr",
     "output_type": "stream",
     "text": [
      "Auto-assigning NUTS sampler...\n",
      "Initializing NUTS using jitter+adapt_diag...\n",
      "Multiprocess sampling (4 chains in 4 jobs)\n",
      "NUTS: [bIC, bIA, bI, bC, bA, cutpoints]\n",
      "Sampling 4 chains, 0 divergences: 100%|██████████| 4000/4000 [02:08<00:00, 31.21draws/s]\n"
     ]
    }
   ],
   "source": [
    "with pm.Model() as model_31:\n",
    "    # Data is defined outside of the model\n",
    "    \n",
    "    # Priors\n",
    "    cutpoints = pm.Normal('cutpoints',\n",
    "                          mu=0,\n",
    "                          sd=1.5,\n",
    "                          transform=pm.distributions.transforms.ordered,\n",
    "                          shape=len(d.response.unique())-1,\n",
    "                          testval=np.arange(len(d.response.unique())-1) - 2.5)\n",
    "    bA = pm.Normal('bA', mu=0, sd=0.5)\n",
    "    bC = pm.Normal('bC', mu=0, sd=0.5)\n",
    "    bI = pm.Normal('bI', mu=0, sd=0.5)\n",
    "    bIA = pm.Normal('bIA', mu=0, sd=0.5)\n",
    "    bIC = pm.Normal('bIC', mu=0, sd=0.5)\n",
    "    \n",
    "    # Regression\n",
    "    BI = bI + bIA*action + bIC*contact\n",
    "    phi = bA*action + bC*contact + BI*intention\n",
    "    response_hat = pm.OrderedLogistic('response_hat', phi, cutpoints, observed=response)\n",
    "\n",
    "    # Prior sampling, trace definition and posterior sampling\n",
    "    #prior = pm.sample_prior_predictive()\n",
    "    posterior_31 = pm.sample()\n",
    "    #posterior_pred_31 = pm.sample_posterior_predictive(posterior_31)"
   ]
  },
  {
   "cell_type": "markdown",
   "metadata": {},
   "source": [
    "Now to run the varying intercept model, we need to build a valid individual ID variable. The IDs in the data are long tags, so we can coerce them to integers in many ways. What is important is that the index values go from 1 (_zero in python_) to the number of individuals."
   ]
  },
  {
   "cell_type": "code",
   "execution_count": 65,
   "metadata": {},
   "outputs": [
    {
     "name": "stderr",
     "output_type": "stream",
     "text": [
      "Auto-assigning NUTS sampler...\n",
      "Initializing NUTS using jitter+adapt_diag...\n",
      "Multiprocess sampling (4 chains in 4 jobs)\n",
      "NUTS: [a, sigma, bIC, bIA, bI, bC, bA, cutpoints]\n",
      "Sampling 4 chains, 0 divergences: 100%|██████████| 4000/4000 [08:58<00:00,  2.39draws/s]\n",
      "The number of effective samples is smaller than 25% for some parameters.\n"
     ]
    }
   ],
   "source": [
    "with pm.Model() as model_32:\n",
    "    # Data is defined outside of the model\n",
    "    \n",
    "    # Priors\n",
    "    cutpoints = pm.Normal('cutpoints',\n",
    "                          mu=0,\n",
    "                          sd=1.5,\n",
    "                          transform=pm.distributions.transforms.ordered,\n",
    "                          shape=len(d.response.unique())-1,\n",
    "                          testval=np.arange(len(d.response.unique())-1) - 2.5)\n",
    "    bA = pm.Normal('bA', mu=0, sd=0.5)\n",
    "    bC = pm.Normal('bC', mu=0, sd=0.5)\n",
    "    bI = pm.Normal('bI', mu=0, sd=0.5)\n",
    "    bIA = pm.Normal('bIA', mu=0, sd=0.5)\n",
    "    bIC = pm.Normal('bIC', mu=0, sd=0.5)\n",
    "    sigma = pm.Exponential('sigma', lam=1)\n",
    "    a = pm.Normal('a', mu=0, sd=sigma, shape=len(d['id'].unique()))\n",
    "    \n",
    "    # Regression\n",
    "    BI = bI + bIA*action + bIC*contact\n",
    "    phi = a[id]+ bA*action + bC*contact + BI*intention\n",
    "    response_hat = pm.OrderedLogistic('response_hat', phi, cutpoints, observed=response)\n",
    "\n",
    "    # Prior sampling, trace definition and posterior sampling\n",
    "    #prior = pm.sample_prior_predictive()\n",
    "    posterior_32 = pm.sample()\n",
    "    #posterior_pred_32 = pm.sample_posterior_predictive(posterior_32)"
   ]
  },
  {
   "cell_type": "markdown",
   "metadata": {},
   "source": [
    "We can begin by comparing the posterior distributions. The original coefficients are:"
   ]
  },
  {
   "cell_type": "code",
   "execution_count": 64,
   "metadata": {},
   "outputs": [
    {
     "data": {
      "text/html": [
       "<div>\n",
       "<style scoped>\n",
       "    .dataframe tbody tr th:only-of-type {\n",
       "        vertical-align: middle;\n",
       "    }\n",
       "\n",
       "    .dataframe tbody tr th {\n",
       "        vertical-align: top;\n",
       "    }\n",
       "\n",
       "    .dataframe thead th {\n",
       "        text-align: right;\n",
       "    }\n",
       "</style>\n",
       "<table border=\"1\" class=\"dataframe\">\n",
       "  <thead>\n",
       "    <tr style=\"text-align: right;\">\n",
       "      <th></th>\n",
       "      <th>mean</th>\n",
       "      <th>sd</th>\n",
       "      <th>mcse_mean</th>\n",
       "      <th>mcse_sd</th>\n",
       "      <th>hpd_5.5%</th>\n",
       "      <th>hpd_94.5%</th>\n",
       "      <th>ess_mean</th>\n",
       "      <th>ess_sd</th>\n",
       "      <th>ess_bulk</th>\n",
       "      <th>ess_tail</th>\n",
       "      <th>r_hat</th>\n",
       "    </tr>\n",
       "  </thead>\n",
       "  <tbody>\n",
       "    <tr>\n",
       "      <th>bA</th>\n",
       "      <td>-0.47</td>\n",
       "      <td>0.05</td>\n",
       "      <td>0.0</td>\n",
       "      <td>0.0</td>\n",
       "      <td>-0.55</td>\n",
       "      <td>-0.38</td>\n",
       "      <td>1140.0</td>\n",
       "      <td>1140.0</td>\n",
       "      <td>1133.0</td>\n",
       "      <td>1418.0</td>\n",
       "      <td>1.0</td>\n",
       "    </tr>\n",
       "    <tr>\n",
       "      <th>bC</th>\n",
       "      <td>-0.34</td>\n",
       "      <td>0.07</td>\n",
       "      <td>0.0</td>\n",
       "      <td>0.0</td>\n",
       "      <td>-0.46</td>\n",
       "      <td>-0.24</td>\n",
       "      <td>1301.0</td>\n",
       "      <td>1301.0</td>\n",
       "      <td>1305.0</td>\n",
       "      <td>1129.0</td>\n",
       "      <td>1.0</td>\n",
       "    </tr>\n",
       "    <tr>\n",
       "      <th>bI</th>\n",
       "      <td>-0.29</td>\n",
       "      <td>0.06</td>\n",
       "      <td>0.0</td>\n",
       "      <td>0.0</td>\n",
       "      <td>-0.38</td>\n",
       "      <td>-0.20</td>\n",
       "      <td>1106.0</td>\n",
       "      <td>1100.0</td>\n",
       "      <td>1106.0</td>\n",
       "      <td>1528.0</td>\n",
       "      <td>1.0</td>\n",
       "    </tr>\n",
       "    <tr>\n",
       "      <th>bIA</th>\n",
       "      <td>-0.44</td>\n",
       "      <td>0.08</td>\n",
       "      <td>0.0</td>\n",
       "      <td>0.0</td>\n",
       "      <td>-0.56</td>\n",
       "      <td>-0.31</td>\n",
       "      <td>1168.0</td>\n",
       "      <td>1152.0</td>\n",
       "      <td>1166.0</td>\n",
       "      <td>1450.0</td>\n",
       "      <td>1.0</td>\n",
       "    </tr>\n",
       "    <tr>\n",
       "      <th>bIC</th>\n",
       "      <td>-1.23</td>\n",
       "      <td>0.10</td>\n",
       "      <td>0.0</td>\n",
       "      <td>0.0</td>\n",
       "      <td>-1.40</td>\n",
       "      <td>-1.09</td>\n",
       "      <td>1351.0</td>\n",
       "      <td>1331.0</td>\n",
       "      <td>1364.0</td>\n",
       "      <td>1392.0</td>\n",
       "      <td>1.0</td>\n",
       "    </tr>\n",
       "  </tbody>\n",
       "</table>\n",
       "</div>"
      ],
      "text/plain": [
       "     mean    sd  mcse_mean  mcse_sd  hpd_5.5%  hpd_94.5%  ess_mean  ess_sd  \\\n",
       "bA  -0.47  0.05        0.0      0.0     -0.55      -0.38    1140.0  1140.0   \n",
       "bC  -0.34  0.07        0.0      0.0     -0.46      -0.24    1301.0  1301.0   \n",
       "bI  -0.29  0.06        0.0      0.0     -0.38      -0.20    1106.0  1100.0   \n",
       "bIA -0.44  0.08        0.0      0.0     -0.56      -0.31    1168.0  1152.0   \n",
       "bIC -1.23  0.10        0.0      0.0     -1.40      -1.09    1351.0  1331.0   \n",
       "\n",
       "     ess_bulk  ess_tail  r_hat  \n",
       "bA     1133.0    1418.0    1.0  \n",
       "bC     1305.0    1129.0    1.0  \n",
       "bI     1106.0    1528.0    1.0  \n",
       "bIA    1166.0    1450.0    1.0  \n",
       "bIC    1364.0    1392.0    1.0  "
      ]
     },
     "execution_count": 64,
     "metadata": {},
     "output_type": "execute_result"
    }
   ],
   "source": [
    "az.summary(posterior_31, var_names=['bA', 'bC', 'bI', 'bIA', 'bIC'], credible_interval=.89).round(2)"
   ]
  },
  {
   "cell_type": "markdown",
   "metadata": {},
   "source": [
    "And the new ones, having added the individual IDs, are:"
   ]
  },
  {
   "cell_type": "code",
   "execution_count": 66,
   "metadata": {},
   "outputs": [
    {
     "data": {
      "text/html": [
       "<div>\n",
       "<style scoped>\n",
       "    .dataframe tbody tr th:only-of-type {\n",
       "        vertical-align: middle;\n",
       "    }\n",
       "\n",
       "    .dataframe tbody tr th {\n",
       "        vertical-align: top;\n",
       "    }\n",
       "\n",
       "    .dataframe thead th {\n",
       "        text-align: right;\n",
       "    }\n",
       "</style>\n",
       "<table border=\"1\" class=\"dataframe\">\n",
       "  <thead>\n",
       "    <tr style=\"text-align: right;\">\n",
       "      <th></th>\n",
       "      <th>mean</th>\n",
       "      <th>sd</th>\n",
       "      <th>mcse_mean</th>\n",
       "      <th>mcse_sd</th>\n",
       "      <th>hpd_5.5%</th>\n",
       "      <th>hpd_94.5%</th>\n",
       "      <th>ess_mean</th>\n",
       "      <th>ess_sd</th>\n",
       "      <th>ess_bulk</th>\n",
       "      <th>ess_tail</th>\n",
       "      <th>r_hat</th>\n",
       "    </tr>\n",
       "  </thead>\n",
       "  <tbody>\n",
       "    <tr>\n",
       "      <th>bA</th>\n",
       "      <td>-0.65</td>\n",
       "      <td>0.06</td>\n",
       "      <td>0.0</td>\n",
       "      <td>0.0</td>\n",
       "      <td>-0.74</td>\n",
       "      <td>-0.56</td>\n",
       "      <td>1397.0</td>\n",
       "      <td>1397.0</td>\n",
       "      <td>1385.0</td>\n",
       "      <td>1832.0</td>\n",
       "      <td>1.00</td>\n",
       "    </tr>\n",
       "    <tr>\n",
       "      <th>bC</th>\n",
       "      <td>-0.45</td>\n",
       "      <td>0.07</td>\n",
       "      <td>0.0</td>\n",
       "      <td>0.0</td>\n",
       "      <td>-0.56</td>\n",
       "      <td>-0.33</td>\n",
       "      <td>1415.0</td>\n",
       "      <td>1415.0</td>\n",
       "      <td>1402.0</td>\n",
       "      <td>1350.0</td>\n",
       "      <td>1.00</td>\n",
       "    </tr>\n",
       "    <tr>\n",
       "      <th>bI</th>\n",
       "      <td>-0.39</td>\n",
       "      <td>0.06</td>\n",
       "      <td>0.0</td>\n",
       "      <td>0.0</td>\n",
       "      <td>-0.48</td>\n",
       "      <td>-0.29</td>\n",
       "      <td>1274.0</td>\n",
       "      <td>1267.0</td>\n",
       "      <td>1275.0</td>\n",
       "      <td>1375.0</td>\n",
       "      <td>1.00</td>\n",
       "    </tr>\n",
       "    <tr>\n",
       "      <th>bIA</th>\n",
       "      <td>-0.56</td>\n",
       "      <td>0.08</td>\n",
       "      <td>0.0</td>\n",
       "      <td>0.0</td>\n",
       "      <td>-0.68</td>\n",
       "      <td>-0.43</td>\n",
       "      <td>1439.0</td>\n",
       "      <td>1431.0</td>\n",
       "      <td>1437.0</td>\n",
       "      <td>1681.0</td>\n",
       "      <td>1.00</td>\n",
       "    </tr>\n",
       "    <tr>\n",
       "      <th>bIC</th>\n",
       "      <td>-1.67</td>\n",
       "      <td>0.10</td>\n",
       "      <td>0.0</td>\n",
       "      <td>0.0</td>\n",
       "      <td>-1.83</td>\n",
       "      <td>-1.51</td>\n",
       "      <td>1369.0</td>\n",
       "      <td>1352.0</td>\n",
       "      <td>1362.0</td>\n",
       "      <td>1239.0</td>\n",
       "      <td>1.00</td>\n",
       "    </tr>\n",
       "    <tr>\n",
       "      <th>sigma</th>\n",
       "      <td>1.92</td>\n",
       "      <td>0.08</td>\n",
       "      <td>0.0</td>\n",
       "      <td>0.0</td>\n",
       "      <td>1.80</td>\n",
       "      <td>2.05</td>\n",
       "      <td>1649.0</td>\n",
       "      <td>1636.0</td>\n",
       "      <td>1669.0</td>\n",
       "      <td>1385.0</td>\n",
       "      <td>1.01</td>\n",
       "    </tr>\n",
       "  </tbody>\n",
       "</table>\n",
       "</div>"
      ],
      "text/plain": [
       "       mean    sd  mcse_mean  mcse_sd  hpd_5.5%  hpd_94.5%  ess_mean  ess_sd  \\\n",
       "bA    -0.65  0.06        0.0      0.0     -0.74      -0.56    1397.0  1397.0   \n",
       "bC    -0.45  0.07        0.0      0.0     -0.56      -0.33    1415.0  1415.0   \n",
       "bI    -0.39  0.06        0.0      0.0     -0.48      -0.29    1274.0  1267.0   \n",
       "bIA   -0.56  0.08        0.0      0.0     -0.68      -0.43    1439.0  1431.0   \n",
       "bIC   -1.67  0.10        0.0      0.0     -1.83      -1.51    1369.0  1352.0   \n",
       "sigma  1.92  0.08        0.0      0.0      1.80       2.05    1649.0  1636.0   \n",
       "\n",
       "       ess_bulk  ess_tail  r_hat  \n",
       "bA       1385.0    1832.0   1.00  \n",
       "bC       1402.0    1350.0   1.00  \n",
       "bI       1275.0    1375.0   1.00  \n",
       "bIA      1437.0    1681.0   1.00  \n",
       "bIC      1362.0    1239.0   1.00  \n",
       "sigma    1669.0    1385.0   1.01  "
      ]
     },
     "execution_count": 66,
     "metadata": {},
     "output_type": "execute_result"
    }
   ],
   "source": [
    "az.summary(posterior_32, var_names=['bA', 'bC', 'bI', 'bIA', 'bIC', 'sigma'], credible_interval=.89).round(2)"
   ]
  },
  {
   "cell_type": "markdown",
   "metadata": {},
   "source": [
    "Everything has gotten more negative. This is because there is a lot of individual variation in average rating, look at the distribution for sigma. That is on the $logit$ scale, so that's a lot of variation on the probability scale. That variation in average rating was hiding some of the effect of the treatments. We get more precision by conditioning on individual.\n",
    "\n",
    "The WAIC comparison can also help show how much variation comes from individual differences in average rating:"
   ]
  },
  {
   "cell_type": "code",
   "execution_count": 67,
   "metadata": {},
   "outputs": [],
   "source": [
    "model_31.name = 'model_31'\n",
    "model_32.name = 'model_32'"
   ]
  },
  {
   "cell_type": "code",
   "execution_count": 68,
   "metadata": {},
   "outputs": [
    {
     "data": {
      "text/html": [
       "<div>\n",
       "<style scoped>\n",
       "    .dataframe tbody tr th:only-of-type {\n",
       "        vertical-align: middle;\n",
       "    }\n",
       "\n",
       "    .dataframe tbody tr th {\n",
       "        vertical-align: top;\n",
       "    }\n",
       "\n",
       "    .dataframe thead th {\n",
       "        text-align: right;\n",
       "    }\n",
       "</style>\n",
       "<table border=\"1\" class=\"dataframe\">\n",
       "  <thead>\n",
       "    <tr style=\"text-align: right;\">\n",
       "      <th></th>\n",
       "      <th>WAIC</th>\n",
       "      <th>pWAIC</th>\n",
       "      <th>dWAIC</th>\n",
       "      <th>weight</th>\n",
       "      <th>SE</th>\n",
       "      <th>dSE</th>\n",
       "      <th>var_warn</th>\n",
       "    </tr>\n",
       "  </thead>\n",
       "  <tbody>\n",
       "    <tr>\n",
       "      <th>model_32</th>\n",
       "      <td>31061</td>\n",
       "      <td>358.04</td>\n",
       "      <td>0</td>\n",
       "      <td>0.91</td>\n",
       "      <td>179.37</td>\n",
       "      <td>0</td>\n",
       "      <td>1</td>\n",
       "    </tr>\n",
       "    <tr>\n",
       "      <th>model_31</th>\n",
       "      <td>36928.9</td>\n",
       "      <td>10.81</td>\n",
       "      <td>5867.96</td>\n",
       "      <td>0.09</td>\n",
       "      <td>80.68</td>\n",
       "      <td>173.54</td>\n",
       "      <td>0</td>\n",
       "    </tr>\n",
       "  </tbody>\n",
       "</table>\n",
       "</div>"
      ],
      "text/plain": [
       "             WAIC   pWAIC    dWAIC weight      SE     dSE var_warn\n",
       "model_32    31061  358.04        0   0.91  179.37       0        1\n",
       "model_31  36928.9   10.81  5867.96   0.09   80.68  173.54        0"
      ]
     },
     "execution_count": 68,
     "metadata": {},
     "output_type": "execute_result"
    }
   ],
   "source": [
    "pm.compare({model_31: posterior_31, model_32: posterior_32})"
   ]
  },
  {
   "cell_type": "markdown",
   "metadata": {},
   "source": [
    "The WAIC difference is massive. This is consistent with individual variation in average rating being a major effect in this sample. This is all quite typical of likert-scale data, in my experience. Individuals anchor on different points and this adds noise. When we have repeat samples from the same individual, we can condition away some of that noise and get more precise estimates of the treatment effects."
   ]
  }
 ],
 "metadata": {
  "kernelspec": {
   "display_name": "py_36_gabi",
   "language": "python",
   "name": "py_36_gabi"
  },
  "language_info": {
   "codemirror_mode": {
    "name": "ipython",
    "version": 3
   },
   "file_extension": ".py",
   "mimetype": "text/x-python",
   "name": "python",
   "nbconvert_exporter": "python",
   "pygments_lexer": "ipython3",
   "version": "3.6.6"
  }
 },
 "nbformat": 4,
 "nbformat_minor": 4
}
